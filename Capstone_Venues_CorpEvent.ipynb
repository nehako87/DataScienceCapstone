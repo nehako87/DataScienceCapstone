{
 "cells": [
  {
   "cell_type": "markdown",
   "metadata": {},
   "source": [
    "# Capstone Project - Analysis of Venues for Corporate Event in Milan and for trips in Milan and Como in Italy\n",
    "### Applied Data Science Capstone"
   ]
  },
  {
   "cell_type": "markdown",
   "metadata": {},
   "source": [
    "## Table of contents\n",
    "* [Introduction: Business Problem](#introduction)\n",
    "* [Data](#data)\n",
    "* [Methodology](#methodology)\n",
    "* [Analysis](#analysis)\n",
    "* [Results and Discussion](#results)\n",
    "* [Conclusion](#conclusion)"
   ]
  },
  {
   "cell_type": "markdown",
   "metadata": {},
   "source": [
    "## Introduction: Business Problem <a name=\"introduction\"></a>"
   ]
  },
  {
   "cell_type": "markdown",
   "metadata": {},
   "source": [
    "A multinational company based in Milan, Italy(say XYZ) is currently organizing a corporate event and has invited \n",
    "business executives from its offices spread all over the world for a 5 day corporate program. The company has to put\n",
    "a good program, including a hotel of residence, event space and nearby venues in the Milan Area as the company is located there and also some more restaurants,shopping malls and fashion stores in some other areas spread over larger radius within the city and the company also intends to offer a one day tour to executives to the city of Como.\n",
    "\n",
    "So the company’s purpose is to make a list of such places in Milan. The executives will be living in Milan and the\n",
    "city can also be visited in the evenings after work. The company chooses to take executives for a visit to nearby venues\n",
    "in the Milan area after work. The company also intends to offer a complete one day tour to the executives for visiting the city of Como(approx 50 km from Milan) in Italy on the 6th day(being Saturday) at the end of the week. \n",
    "\n",
    "We can use data science and obtain results for some hotels, event space and nearby venues in the Milan Area as the company is located there and also some more restaurants,shopping malls and fashion stores in some other areas spread over larger radius within the city. Similarly, we can also find out each neighborhood in Como with the top 10 common venues so that the company can choose the neighborhoods as per the interested venues/maximum no of venues in a neighborhood."
   ]
  },
  {
   "cell_type": "markdown",
   "metadata": {},
   "source": [
    "## Data <a name=\"data\"></a>"
   ]
  },
  {
   "cell_type": "markdown",
   "metadata": {},
   "source": [
    "Based on definition of our problem, We can list the data as below:\n",
    "    \n",
    "• I found the data of the first, second and third level Administrative Divisions of the entire Country of Italy \n",
    " from http://www.geonames.org along with the geospatial data. I cleaned the data and grouped it from Country to State\n",
    " and then to City of Milan and Como.\n",
    "• The json file has the coordinates and data of the city of Milan. I have cleaned it to obtain the required data for this project.\n",
    "•  I used it to create a map of places in Milan and Como.\n",
    "•  I have used Foursquare API to run the queries for hotels, event space and nearby venues in the Milan Area as the company is located there, also some more restaurants,shopping malls and fashion stores in some other areas spread over larger radius within the city. I have also used it to find top 10 most common venues for each neighnorhood for the city of Como in Italy.\n"
   ]
  },
  {
   "cell_type": "code",
   "execution_count": 1,
   "metadata": {},
   "outputs": [],
   "source": [
    "#Importing necessary libraries\n",
    "import pandas as pd\n",
    "import numpy as np"
   ]
  },
  {
   "cell_type": "code",
   "execution_count": 2,
   "metadata": {},
   "outputs": [
    {
     "data": {
      "text/html": [
       "<div>\n",
       "<style scoped>\n",
       "    .dataframe tbody tr th:only-of-type {\n",
       "        vertical-align: middle;\n",
       "    }\n",
       "\n",
       "    .dataframe tbody tr th {\n",
       "        vertical-align: top;\n",
       "    }\n",
       "\n",
       "    .dataframe thead th {\n",
       "        text-align: right;\n",
       "    }\n",
       "</style>\n",
       "<table border=\"1\" class=\"dataframe\">\n",
       "  <thead>\n",
       "    <tr style=\"text-align: right;\">\n",
       "      <th></th>\n",
       "      <th>0</th>\n",
       "      <th>1</th>\n",
       "      <th>2</th>\n",
       "      <th>3</th>\n",
       "      <th>4</th>\n",
       "      <th>5</th>\n",
       "      <th>6</th>\n",
       "      <th>7</th>\n",
       "      <th>8</th>\n",
       "      <th>9</th>\n",
       "      <th>10</th>\n",
       "      <th>11</th>\n",
       "    </tr>\n",
       "  </thead>\n",
       "  <tbody>\n",
       "    <tr>\n",
       "      <th>0</th>\n",
       "      <td>IT</td>\n",
       "      <td>67010</td>\n",
       "      <td>Barete</td>\n",
       "      <td>Abruzzi</td>\n",
       "      <td>1</td>\n",
       "      <td>L'Aquila</td>\n",
       "      <td>AQ</td>\n",
       "      <td>NaN</td>\n",
       "      <td>NaN</td>\n",
       "      <td>42.4501</td>\n",
       "      <td>13.2806</td>\n",
       "      <td>4</td>\n",
       "    </tr>\n",
       "    <tr>\n",
       "      <th>1</th>\n",
       "      <td>IT</td>\n",
       "      <td>67012</td>\n",
       "      <td>Cagnano Amiterno</td>\n",
       "      <td>Abruzzi</td>\n",
       "      <td>1</td>\n",
       "      <td>L'Aquila</td>\n",
       "      <td>AQ</td>\n",
       "      <td>NaN</td>\n",
       "      <td>NaN</td>\n",
       "      <td>42.4574</td>\n",
       "      <td>13.2279</td>\n",
       "      <td>4</td>\n",
       "    </tr>\n",
       "    <tr>\n",
       "      <th>2</th>\n",
       "      <td>IT</td>\n",
       "      <td>67012</td>\n",
       "      <td>San Giovanni</td>\n",
       "      <td>Abruzzi</td>\n",
       "      <td>1</td>\n",
       "      <td>L'Aquila</td>\n",
       "      <td>AQ</td>\n",
       "      <td>NaN</td>\n",
       "      <td>NaN</td>\n",
       "      <td>42.4642</td>\n",
       "      <td>13.2584</td>\n",
       "      <td>4</td>\n",
       "    </tr>\n",
       "    <tr>\n",
       "      <th>3</th>\n",
       "      <td>IT</td>\n",
       "      <td>67013</td>\n",
       "      <td>Mascioni</td>\n",
       "      <td>Abruzzi</td>\n",
       "      <td>1</td>\n",
       "      <td>L'Aquila</td>\n",
       "      <td>AQ</td>\n",
       "      <td>NaN</td>\n",
       "      <td>NaN</td>\n",
       "      <td>42.5282</td>\n",
       "      <td>13.3492</td>\n",
       "      <td>4</td>\n",
       "    </tr>\n",
       "    <tr>\n",
       "      <th>4</th>\n",
       "      <td>IT</td>\n",
       "      <td>67013</td>\n",
       "      <td>Campotosto</td>\n",
       "      <td>Abruzzi</td>\n",
       "      <td>1</td>\n",
       "      <td>L'Aquila</td>\n",
       "      <td>AQ</td>\n",
       "      <td>NaN</td>\n",
       "      <td>NaN</td>\n",
       "      <td>42.5588</td>\n",
       "      <td>13.3680</td>\n",
       "      <td>4</td>\n",
       "    </tr>\n",
       "  </tbody>\n",
       "</table>\n",
       "</div>"
      ],
      "text/plain": [
       "   0      1                 2        3   4         5   6    7   8        9   \\\n",
       "0  IT  67010            Barete  Abruzzi   1  L'Aquila  AQ  NaN NaN  42.4501   \n",
       "1  IT  67012  Cagnano Amiterno  Abruzzi   1  L'Aquila  AQ  NaN NaN  42.4574   \n",
       "2  IT  67012      San Giovanni  Abruzzi   1  L'Aquila  AQ  NaN NaN  42.4642   \n",
       "3  IT  67013          Mascioni  Abruzzi   1  L'Aquila  AQ  NaN NaN  42.5282   \n",
       "4  IT  67013        Campotosto  Abruzzi   1  L'Aquila  AQ  NaN NaN  42.5588   \n",
       "\n",
       "        10  11  \n",
       "0  13.2806   4  \n",
       "1  13.2279   4  \n",
       "2  13.2584   4  \n",
       "3  13.3492   4  \n",
       "4  13.3680   4  "
      ]
     },
     "execution_count": 2,
     "metadata": {},
     "output_type": "execute_result"
    }
   ],
   "source": [
    "#Loading tabular data by reading it from the file into pandas dataframe.\n",
    "df=pd.read_table('IT.txt',header=None)\n",
    "df.head()"
   ]
  },
  {
   "cell_type": "code",
   "execution_count": 3,
   "metadata": {},
   "outputs": [
    {
     "data": {
      "text/plain": [
       "(18385, 12)"
      ]
     },
     "execution_count": 3,
     "metadata": {},
     "output_type": "execute_result"
    }
   ],
   "source": [
    "df.shape"
   ]
  },
  {
   "cell_type": "code",
   "execution_count": 4,
   "metadata": {},
   "outputs": [],
   "source": [
    "#Assigning columns names to each column as mentioned in the downloaded file. Admin1 corresponds to states of Italy, Admin2 \n",
    "#corresponds to cities and Admin3 corresponds to places/neighborhoods in the cities.\n",
    "df.columns = [\"Country_code\",\"postal_code\",\"place_name\",\"admin_name1\",\"admin_code1\",\"admin_name2\",\"admin_code2\",\"admin_name3\",\"admin_code3\",\"latitude\",\"longitude\",\"accuracy\"]"
   ]
  },
  {
   "cell_type": "code",
   "execution_count": 5,
   "metadata": {},
   "outputs": [
    {
     "data": {
      "text/html": [
       "<div>\n",
       "<style scoped>\n",
       "    .dataframe tbody tr th:only-of-type {\n",
       "        vertical-align: middle;\n",
       "    }\n",
       "\n",
       "    .dataframe tbody tr th {\n",
       "        vertical-align: top;\n",
       "    }\n",
       "\n",
       "    .dataframe thead th {\n",
       "        text-align: right;\n",
       "    }\n",
       "</style>\n",
       "<table border=\"1\" class=\"dataframe\">\n",
       "  <thead>\n",
       "    <tr style=\"text-align: right;\">\n",
       "      <th></th>\n",
       "      <th>Country_code</th>\n",
       "      <th>postal_code</th>\n",
       "      <th>place_name</th>\n",
       "      <th>admin_name1</th>\n",
       "      <th>admin_code1</th>\n",
       "      <th>admin_name2</th>\n",
       "      <th>admin_code2</th>\n",
       "      <th>admin_name3</th>\n",
       "      <th>admin_code3</th>\n",
       "      <th>latitude</th>\n",
       "      <th>longitude</th>\n",
       "      <th>accuracy</th>\n",
       "    </tr>\n",
       "  </thead>\n",
       "  <tbody>\n",
       "    <tr>\n",
       "      <th>0</th>\n",
       "      <td>IT</td>\n",
       "      <td>67010</td>\n",
       "      <td>Barete</td>\n",
       "      <td>Abruzzi</td>\n",
       "      <td>1</td>\n",
       "      <td>L'Aquila</td>\n",
       "      <td>AQ</td>\n",
       "      <td>NaN</td>\n",
       "      <td>NaN</td>\n",
       "      <td>42.4501</td>\n",
       "      <td>13.2806</td>\n",
       "      <td>4</td>\n",
       "    </tr>\n",
       "    <tr>\n",
       "      <th>1</th>\n",
       "      <td>IT</td>\n",
       "      <td>67012</td>\n",
       "      <td>Cagnano Amiterno</td>\n",
       "      <td>Abruzzi</td>\n",
       "      <td>1</td>\n",
       "      <td>L'Aquila</td>\n",
       "      <td>AQ</td>\n",
       "      <td>NaN</td>\n",
       "      <td>NaN</td>\n",
       "      <td>42.4574</td>\n",
       "      <td>13.2279</td>\n",
       "      <td>4</td>\n",
       "    </tr>\n",
       "    <tr>\n",
       "      <th>2</th>\n",
       "      <td>IT</td>\n",
       "      <td>67012</td>\n",
       "      <td>San Giovanni</td>\n",
       "      <td>Abruzzi</td>\n",
       "      <td>1</td>\n",
       "      <td>L'Aquila</td>\n",
       "      <td>AQ</td>\n",
       "      <td>NaN</td>\n",
       "      <td>NaN</td>\n",
       "      <td>42.4642</td>\n",
       "      <td>13.2584</td>\n",
       "      <td>4</td>\n",
       "    </tr>\n",
       "    <tr>\n",
       "      <th>3</th>\n",
       "      <td>IT</td>\n",
       "      <td>67013</td>\n",
       "      <td>Mascioni</td>\n",
       "      <td>Abruzzi</td>\n",
       "      <td>1</td>\n",
       "      <td>L'Aquila</td>\n",
       "      <td>AQ</td>\n",
       "      <td>NaN</td>\n",
       "      <td>NaN</td>\n",
       "      <td>42.5282</td>\n",
       "      <td>13.3492</td>\n",
       "      <td>4</td>\n",
       "    </tr>\n",
       "    <tr>\n",
       "      <th>4</th>\n",
       "      <td>IT</td>\n",
       "      <td>67013</td>\n",
       "      <td>Campotosto</td>\n",
       "      <td>Abruzzi</td>\n",
       "      <td>1</td>\n",
       "      <td>L'Aquila</td>\n",
       "      <td>AQ</td>\n",
       "      <td>NaN</td>\n",
       "      <td>NaN</td>\n",
       "      <td>42.5588</td>\n",
       "      <td>13.3680</td>\n",
       "      <td>4</td>\n",
       "    </tr>\n",
       "  </tbody>\n",
       "</table>\n",
       "</div>"
      ],
      "text/plain": [
       "  Country_code  postal_code        place_name admin_name1  admin_code1  \\\n",
       "0           IT        67010            Barete     Abruzzi            1   \n",
       "1           IT        67012  Cagnano Amiterno     Abruzzi            1   \n",
       "2           IT        67012      San Giovanni     Abruzzi            1   \n",
       "3           IT        67013          Mascioni     Abruzzi            1   \n",
       "4           IT        67013        Campotosto     Abruzzi            1   \n",
       "\n",
       "  admin_name2 admin_code2 admin_name3  admin_code3  latitude  longitude  \\\n",
       "0    L'Aquila          AQ         NaN          NaN   42.4501    13.2806   \n",
       "1    L'Aquila          AQ         NaN          NaN   42.4574    13.2279   \n",
       "2    L'Aquila          AQ         NaN          NaN   42.4642    13.2584   \n",
       "3    L'Aquila          AQ         NaN          NaN   42.5282    13.3492   \n",
       "4    L'Aquila          AQ         NaN          NaN   42.5588    13.3680   \n",
       "\n",
       "   accuracy  \n",
       "0         4  \n",
       "1         4  \n",
       "2         4  \n",
       "3         4  \n",
       "4         4  "
      ]
     },
     "execution_count": 5,
     "metadata": {},
     "output_type": "execute_result"
    }
   ],
   "source": [
    "df.head()"
   ]
  },
  {
   "cell_type": "code",
   "execution_count": 6,
   "metadata": {},
   "outputs": [],
   "source": [
    "#Deleting columns that are not needed\n",
    "columns = ['admin_code1', 'admin_code2','admin_name3','admin_code3','accuracy']\n",
    "df.drop(columns, inplace=True, axis=1)"
   ]
  },
  {
   "cell_type": "code",
   "execution_count": 7,
   "metadata": {},
   "outputs": [
    {
     "data": {
      "text/html": [
       "<div>\n",
       "<style scoped>\n",
       "    .dataframe tbody tr th:only-of-type {\n",
       "        vertical-align: middle;\n",
       "    }\n",
       "\n",
       "    .dataframe tbody tr th {\n",
       "        vertical-align: top;\n",
       "    }\n",
       "\n",
       "    .dataframe thead th {\n",
       "        text-align: right;\n",
       "    }\n",
       "</style>\n",
       "<table border=\"1\" class=\"dataframe\">\n",
       "  <thead>\n",
       "    <tr style=\"text-align: right;\">\n",
       "      <th></th>\n",
       "      <th>Country_code</th>\n",
       "      <th>postal_code</th>\n",
       "      <th>place_name</th>\n",
       "      <th>admin_name1</th>\n",
       "      <th>admin_name2</th>\n",
       "      <th>latitude</th>\n",
       "      <th>longitude</th>\n",
       "    </tr>\n",
       "  </thead>\n",
       "  <tbody>\n",
       "    <tr>\n",
       "      <th>0</th>\n",
       "      <td>IT</td>\n",
       "      <td>67010</td>\n",
       "      <td>Barete</td>\n",
       "      <td>Abruzzi</td>\n",
       "      <td>L'Aquila</td>\n",
       "      <td>42.4501</td>\n",
       "      <td>13.2806</td>\n",
       "    </tr>\n",
       "    <tr>\n",
       "      <th>1</th>\n",
       "      <td>IT</td>\n",
       "      <td>67012</td>\n",
       "      <td>Cagnano Amiterno</td>\n",
       "      <td>Abruzzi</td>\n",
       "      <td>L'Aquila</td>\n",
       "      <td>42.4574</td>\n",
       "      <td>13.2279</td>\n",
       "    </tr>\n",
       "    <tr>\n",
       "      <th>2</th>\n",
       "      <td>IT</td>\n",
       "      <td>67012</td>\n",
       "      <td>San Giovanni</td>\n",
       "      <td>Abruzzi</td>\n",
       "      <td>L'Aquila</td>\n",
       "      <td>42.4642</td>\n",
       "      <td>13.2584</td>\n",
       "    </tr>\n",
       "    <tr>\n",
       "      <th>3</th>\n",
       "      <td>IT</td>\n",
       "      <td>67013</td>\n",
       "      <td>Mascioni</td>\n",
       "      <td>Abruzzi</td>\n",
       "      <td>L'Aquila</td>\n",
       "      <td>42.5282</td>\n",
       "      <td>13.3492</td>\n",
       "    </tr>\n",
       "    <tr>\n",
       "      <th>4</th>\n",
       "      <td>IT</td>\n",
       "      <td>67013</td>\n",
       "      <td>Campotosto</td>\n",
       "      <td>Abruzzi</td>\n",
       "      <td>L'Aquila</td>\n",
       "      <td>42.5588</td>\n",
       "      <td>13.3680</td>\n",
       "    </tr>\n",
       "  </tbody>\n",
       "</table>\n",
       "</div>"
      ],
      "text/plain": [
       "  Country_code  postal_code        place_name admin_name1 admin_name2  \\\n",
       "0           IT        67010            Barete     Abruzzi    L'Aquila   \n",
       "1           IT        67012  Cagnano Amiterno     Abruzzi    L'Aquila   \n",
       "2           IT        67012      San Giovanni     Abruzzi    L'Aquila   \n",
       "3           IT        67013          Mascioni     Abruzzi    L'Aquila   \n",
       "4           IT        67013        Campotosto     Abruzzi    L'Aquila   \n",
       "\n",
       "   latitude  longitude  \n",
       "0   42.4501    13.2806  \n",
       "1   42.4574    13.2279  \n",
       "2   42.4642    13.2584  \n",
       "3   42.5282    13.3492  \n",
       "4   42.5588    13.3680  "
      ]
     },
     "execution_count": 7,
     "metadata": {},
     "output_type": "execute_result"
    }
   ],
   "source": [
    "df.head()"
   ]
  },
  {
   "cell_type": "code",
   "execution_count": 8,
   "metadata": {},
   "outputs": [
    {
     "data": {
      "text/plain": [
       "(18385, 7)"
      ]
     },
     "execution_count": 8,
     "metadata": {},
     "output_type": "execute_result"
    }
   ],
   "source": [
    "df.shape"
   ]
  },
  {
   "cell_type": "markdown",
   "metadata": {},
   "source": [
    "__Note that there are 18,385 rows in the above table as it contains data of the entire country of Italy. Hence, we will use  groupby functions to obtain data for the state Lombardia and respective cities of Milan and Como for the project__"
   ]
  },
  {
   "cell_type": "code",
   "execution_count": 9,
   "metadata": {},
   "outputs": [],
   "source": [
    "df1=df.groupby('admin_name1')"
   ]
  },
  {
   "cell_type": "code",
   "execution_count": 10,
   "metadata": {},
   "outputs": [],
   "source": [
    "#Obtaining data for the state 'Lombardia'\n",
    "df2=df1.get_group('Lombardia')"
   ]
  },
  {
   "cell_type": "code",
   "execution_count": 11,
   "metadata": {},
   "outputs": [
    {
     "data": {
      "text/html": [
       "<div>\n",
       "<style scoped>\n",
       "    .dataframe tbody tr th:only-of-type {\n",
       "        vertical-align: middle;\n",
       "    }\n",
       "\n",
       "    .dataframe tbody tr th {\n",
       "        vertical-align: top;\n",
       "    }\n",
       "\n",
       "    .dataframe thead th {\n",
       "        text-align: right;\n",
       "    }\n",
       "</style>\n",
       "<table border=\"1\" class=\"dataframe\">\n",
       "  <thead>\n",
       "    <tr style=\"text-align: right;\">\n",
       "      <th></th>\n",
       "      <th>Country_code</th>\n",
       "      <th>postal_code</th>\n",
       "      <th>place_name</th>\n",
       "      <th>admin_name1</th>\n",
       "      <th>admin_name2</th>\n",
       "      <th>latitude</th>\n",
       "      <th>longitude</th>\n",
       "    </tr>\n",
       "  </thead>\n",
       "  <tbody>\n",
       "    <tr>\n",
       "      <th>6598</th>\n",
       "      <td>IT</td>\n",
       "      <td>24010</td>\n",
       "      <td>Ubiale</td>\n",
       "      <td>Lombardia</td>\n",
       "      <td>Bergamo</td>\n",
       "      <td>45.7835</td>\n",
       "      <td>9.6165</td>\n",
       "    </tr>\n",
       "    <tr>\n",
       "      <th>6599</th>\n",
       "      <td>IT</td>\n",
       "      <td>24010</td>\n",
       "      <td>Peghera</td>\n",
       "      <td>Lombardia</td>\n",
       "      <td>Bergamo</td>\n",
       "      <td>45.8731</td>\n",
       "      <td>9.5692</td>\n",
       "    </tr>\n",
       "    <tr>\n",
       "      <th>6600</th>\n",
       "      <td>IT</td>\n",
       "      <td>24010</td>\n",
       "      <td>Roncobello</td>\n",
       "      <td>Lombardia</td>\n",
       "      <td>Bergamo</td>\n",
       "      <td>45.9557</td>\n",
       "      <td>9.7523</td>\n",
       "    </tr>\n",
       "    <tr>\n",
       "      <th>6601</th>\n",
       "      <td>IT</td>\n",
       "      <td>24010</td>\n",
       "      <td>Piazzolo</td>\n",
       "      <td>Lombardia</td>\n",
       "      <td>Bergamo</td>\n",
       "      <td>45.9798</td>\n",
       "      <td>9.6705</td>\n",
       "    </tr>\n",
       "    <tr>\n",
       "      <th>6602</th>\n",
       "      <td>IT</td>\n",
       "      <td>24010</td>\n",
       "      <td>Taleggio</td>\n",
       "      <td>Lombardia</td>\n",
       "      <td>Bergamo</td>\n",
       "      <td>45.8934</td>\n",
       "      <td>9.5648</td>\n",
       "    </tr>\n",
       "  </tbody>\n",
       "</table>\n",
       "</div>"
      ],
      "text/plain": [
       "     Country_code  postal_code  place_name admin_name1 admin_name2  latitude  \\\n",
       "6598           IT        24010      Ubiale   Lombardia     Bergamo   45.7835   \n",
       "6599           IT        24010     Peghera   Lombardia     Bergamo   45.8731   \n",
       "6600           IT        24010  Roncobello   Lombardia     Bergamo   45.9557   \n",
       "6601           IT        24010    Piazzolo   Lombardia     Bergamo   45.9798   \n",
       "6602           IT        24010    Taleggio   Lombardia     Bergamo   45.8934   \n",
       "\n",
       "      longitude  \n",
       "6598     9.6165  \n",
       "6599     9.5692  \n",
       "6600     9.7523  \n",
       "6601     9.6705  \n",
       "6602     9.5648  "
      ]
     },
     "execution_count": 11,
     "metadata": {},
     "output_type": "execute_result"
    }
   ],
   "source": [
    "df2.head()"
   ]
  },
  {
   "cell_type": "code",
   "execution_count": 12,
   "metadata": {},
   "outputs": [
    {
     "data": {
      "text/plain": [
       "(2500, 7)"
      ]
     },
     "execution_count": 12,
     "metadata": {},
     "output_type": "execute_result"
    }
   ],
   "source": [
    "df2.shape"
   ]
  },
  {
   "cell_type": "code",
   "execution_count": 13,
   "metadata": {},
   "outputs": [],
   "source": [
    "#Assigning the required columns to another dataframe\n",
    "data=df2[['postal_code','admin_name2','place_name','latitude','longitude']]"
   ]
  },
  {
   "cell_type": "code",
   "execution_count": 14,
   "metadata": {},
   "outputs": [
    {
     "data": {
      "text/html": [
       "<div>\n",
       "<style scoped>\n",
       "    .dataframe tbody tr th:only-of-type {\n",
       "        vertical-align: middle;\n",
       "    }\n",
       "\n",
       "    .dataframe tbody tr th {\n",
       "        vertical-align: top;\n",
       "    }\n",
       "\n",
       "    .dataframe thead th {\n",
       "        text-align: right;\n",
       "    }\n",
       "</style>\n",
       "<table border=\"1\" class=\"dataframe\">\n",
       "  <thead>\n",
       "    <tr style=\"text-align: right;\">\n",
       "      <th></th>\n",
       "      <th>postal_code</th>\n",
       "      <th>admin_name2</th>\n",
       "      <th>place_name</th>\n",
       "      <th>latitude</th>\n",
       "      <th>longitude</th>\n",
       "    </tr>\n",
       "  </thead>\n",
       "  <tbody>\n",
       "    <tr>\n",
       "      <th>6598</th>\n",
       "      <td>24010</td>\n",
       "      <td>Bergamo</td>\n",
       "      <td>Ubiale</td>\n",
       "      <td>45.7835</td>\n",
       "      <td>9.6165</td>\n",
       "    </tr>\n",
       "    <tr>\n",
       "      <th>6599</th>\n",
       "      <td>24010</td>\n",
       "      <td>Bergamo</td>\n",
       "      <td>Peghera</td>\n",
       "      <td>45.8731</td>\n",
       "      <td>9.5692</td>\n",
       "    </tr>\n",
       "    <tr>\n",
       "      <th>6600</th>\n",
       "      <td>24010</td>\n",
       "      <td>Bergamo</td>\n",
       "      <td>Roncobello</td>\n",
       "      <td>45.9557</td>\n",
       "      <td>9.7523</td>\n",
       "    </tr>\n",
       "    <tr>\n",
       "      <th>6601</th>\n",
       "      <td>24010</td>\n",
       "      <td>Bergamo</td>\n",
       "      <td>Piazzolo</td>\n",
       "      <td>45.9798</td>\n",
       "      <td>9.6705</td>\n",
       "    </tr>\n",
       "    <tr>\n",
       "      <th>6602</th>\n",
       "      <td>24010</td>\n",
       "      <td>Bergamo</td>\n",
       "      <td>Taleggio</td>\n",
       "      <td>45.8934</td>\n",
       "      <td>9.5648</td>\n",
       "    </tr>\n",
       "  </tbody>\n",
       "</table>\n",
       "</div>"
      ],
      "text/plain": [
       "      postal_code admin_name2  place_name  latitude  longitude\n",
       "6598        24010     Bergamo      Ubiale   45.7835     9.6165\n",
       "6599        24010     Bergamo     Peghera   45.8731     9.5692\n",
       "6600        24010     Bergamo  Roncobello   45.9557     9.7523\n",
       "6601        24010     Bergamo    Piazzolo   45.9798     9.6705\n",
       "6602        24010     Bergamo    Taleggio   45.8934     9.5648"
      ]
     },
     "execution_count": 14,
     "metadata": {},
     "output_type": "execute_result"
    }
   ],
   "source": [
    "data.head()"
   ]
  },
  {
   "cell_type": "code",
   "execution_count": 15,
   "metadata": {},
   "outputs": [],
   "source": [
    "#Renaming columns with the appropriate names i.e Borough for Cities and Neighborhoods for the places in the city\n",
    "neighborhoodb = data.rename(columns={'postal_code':'PostalCode','admin_name2':'Borough','place_name':'Neighborhood','latitude':'Latitude','longitude':'Longitude'})\n",
    "neighborhoodb.reset_index(inplace = True, drop = True) "
   ]
  },
  {
   "cell_type": "code",
   "execution_count": 16,
   "metadata": {},
   "outputs": [
    {
     "data": {
      "text/html": [
       "<div>\n",
       "<style scoped>\n",
       "    .dataframe tbody tr th:only-of-type {\n",
       "        vertical-align: middle;\n",
       "    }\n",
       "\n",
       "    .dataframe tbody tr th {\n",
       "        vertical-align: top;\n",
       "    }\n",
       "\n",
       "    .dataframe thead th {\n",
       "        text-align: right;\n",
       "    }\n",
       "</style>\n",
       "<table border=\"1\" class=\"dataframe\">\n",
       "  <thead>\n",
       "    <tr style=\"text-align: right;\">\n",
       "      <th></th>\n",
       "      <th>PostalCode</th>\n",
       "      <th>Borough</th>\n",
       "      <th>Neighborhood</th>\n",
       "      <th>Latitude</th>\n",
       "      <th>Longitude</th>\n",
       "    </tr>\n",
       "  </thead>\n",
       "  <tbody>\n",
       "    <tr>\n",
       "      <th>0</th>\n",
       "      <td>24010</td>\n",
       "      <td>Bergamo</td>\n",
       "      <td>Ubiale</td>\n",
       "      <td>45.7835</td>\n",
       "      <td>9.6165</td>\n",
       "    </tr>\n",
       "    <tr>\n",
       "      <th>1</th>\n",
       "      <td>24010</td>\n",
       "      <td>Bergamo</td>\n",
       "      <td>Peghera</td>\n",
       "      <td>45.8731</td>\n",
       "      <td>9.5692</td>\n",
       "    </tr>\n",
       "    <tr>\n",
       "      <th>2</th>\n",
       "      <td>24010</td>\n",
       "      <td>Bergamo</td>\n",
       "      <td>Roncobello</td>\n",
       "      <td>45.9557</td>\n",
       "      <td>9.7523</td>\n",
       "    </tr>\n",
       "    <tr>\n",
       "      <th>3</th>\n",
       "      <td>24010</td>\n",
       "      <td>Bergamo</td>\n",
       "      <td>Piazzolo</td>\n",
       "      <td>45.9798</td>\n",
       "      <td>9.6705</td>\n",
       "    </tr>\n",
       "    <tr>\n",
       "      <th>4</th>\n",
       "      <td>24010</td>\n",
       "      <td>Bergamo</td>\n",
       "      <td>Taleggio</td>\n",
       "      <td>45.8934</td>\n",
       "      <td>9.5648</td>\n",
       "    </tr>\n",
       "  </tbody>\n",
       "</table>\n",
       "</div>"
      ],
      "text/plain": [
       "   PostalCode  Borough Neighborhood  Latitude  Longitude\n",
       "0       24010  Bergamo       Ubiale   45.7835     9.6165\n",
       "1       24010  Bergamo      Peghera   45.8731     9.5692\n",
       "2       24010  Bergamo   Roncobello   45.9557     9.7523\n",
       "3       24010  Bergamo     Piazzolo   45.9798     9.6705\n",
       "4       24010  Bergamo     Taleggio   45.8934     9.5648"
      ]
     },
     "execution_count": 16,
     "metadata": {},
     "output_type": "execute_result"
    }
   ],
   "source": [
    "neighborhoodb.head()"
   ]
  },
  {
   "cell_type": "code",
   "execution_count": 17,
   "metadata": {},
   "outputs": [
    {
     "data": {
      "text/plain": [
       "(2500, 5)"
      ]
     },
     "execution_count": 17,
     "metadata": {},
     "output_type": "execute_result"
    }
   ],
   "source": [
    "neighborhoodb.shape"
   ]
  },
  {
   "cell_type": "code",
   "execution_count": 18,
   "metadata": {},
   "outputs": [
    {
     "name": "stdout",
     "output_type": "stream",
     "text": [
      "The dataframe has 12 boroughs and 2500 neighborhoods.\n"
     ]
    }
   ],
   "source": [
    "print('The dataframe has {} boroughs and {} neighborhoods.'.format(\n",
    "        len(neighborhoodb['Borough'].unique()),\n",
    "        neighborhoodb.shape[0]\n",
    "    )\n",
    ")"
   ]
  },
  {
   "cell_type": "code",
   "execution_count": 19,
   "metadata": {},
   "outputs": [
    {
     "data": {
      "text/plain": [
       "array(['Bergamo', 'Brescia', 'Como', 'Cremona', 'Lecco', 'Lodi',\n",
       "       'Monza e Brianza', 'Milano', 'Mantova', 'Pavia', 'Sondrio',\n",
       "       'Varese'], dtype=object)"
      ]
     },
     "execution_count": 19,
     "metadata": {},
     "output_type": "execute_result"
    }
   ],
   "source": [
    "#Unique boroughs in each neighborhood\n",
    "neighborhoodb['Borough'].unique()"
   ]
  },
  {
   "cell_type": "code",
   "execution_count": 20,
   "metadata": {},
   "outputs": [],
   "source": [
    "#Using groupby to obtain data for specific cities \n",
    "neighborhoodc=neighborhoodb.groupby('Borough')"
   ]
  },
  {
   "cell_type": "code",
   "execution_count": 21,
   "metadata": {},
   "outputs": [],
   "source": [
    "#Obtaining data for the city of  Milano\n",
    "neighborhoodsh=neighborhoodc.get_group('Milano')"
   ]
  },
  {
   "cell_type": "code",
   "execution_count": 22,
   "metadata": {},
   "outputs": [
    {
     "data": {
      "text/html": [
       "<div>\n",
       "<style scoped>\n",
       "    .dataframe tbody tr th:only-of-type {\n",
       "        vertical-align: middle;\n",
       "    }\n",
       "\n",
       "    .dataframe tbody tr th {\n",
       "        vertical-align: top;\n",
       "    }\n",
       "\n",
       "    .dataframe thead th {\n",
       "        text-align: right;\n",
       "    }\n",
       "</style>\n",
       "<table border=\"1\" class=\"dataframe\">\n",
       "  <thead>\n",
       "    <tr style=\"text-align: right;\">\n",
       "      <th></th>\n",
       "      <th>PostalCode</th>\n",
       "      <th>Borough</th>\n",
       "      <th>Neighborhood</th>\n",
       "      <th>Latitude</th>\n",
       "      <th>Longitude</th>\n",
       "    </tr>\n",
       "  </thead>\n",
       "  <tbody>\n",
       "    <tr>\n",
       "      <th>1440</th>\n",
       "      <td>20010</td>\n",
       "      <td>Milano</td>\n",
       "      <td>Cornaredo</td>\n",
       "      <td>45.5013</td>\n",
       "      <td>9.0268</td>\n",
       "    </tr>\n",
       "    <tr>\n",
       "      <th>1441</th>\n",
       "      <td>20010</td>\n",
       "      <td>Milano</td>\n",
       "      <td>Mesero</td>\n",
       "      <td>45.5023</td>\n",
       "      <td>8.8554</td>\n",
       "    </tr>\n",
       "    <tr>\n",
       "      <th>1442</th>\n",
       "      <td>20010</td>\n",
       "      <td>Milano</td>\n",
       "      <td>Rogorotto</td>\n",
       "      <td>45.5062</td>\n",
       "      <td>8.9694</td>\n",
       "    </tr>\n",
       "    <tr>\n",
       "      <th>1443</th>\n",
       "      <td>20010</td>\n",
       "      <td>Milano</td>\n",
       "      <td>San Giorgio Su Legnano</td>\n",
       "      <td>45.5738</td>\n",
       "      <td>8.9137</td>\n",
       "    </tr>\n",
       "    <tr>\n",
       "      <th>1444</th>\n",
       "      <td>20010</td>\n",
       "      <td>Milano</td>\n",
       "      <td>Vanzago</td>\n",
       "      <td>45.5257</td>\n",
       "      <td>8.9910</td>\n",
       "    </tr>\n",
       "  </tbody>\n",
       "</table>\n",
       "</div>"
      ],
      "text/plain": [
       "      PostalCode Borough            Neighborhood  Latitude  Longitude\n",
       "1440       20010  Milano               Cornaredo   45.5013     9.0268\n",
       "1441       20010  Milano                  Mesero   45.5023     8.8554\n",
       "1442       20010  Milano               Rogorotto   45.5062     8.9694\n",
       "1443       20010  Milano  San Giorgio Su Legnano   45.5738     8.9137\n",
       "1444       20010  Milano                 Vanzago   45.5257     8.9910"
      ]
     },
     "execution_count": 22,
     "metadata": {},
     "output_type": "execute_result"
    }
   ],
   "source": [
    "neighborhoodsh.head()"
   ]
  },
  {
   "cell_type": "code",
   "execution_count": 23,
   "metadata": {},
   "outputs": [
    {
     "data": {
      "text/html": [
       "<div>\n",
       "<style scoped>\n",
       "    .dataframe tbody tr th:only-of-type {\n",
       "        vertical-align: middle;\n",
       "    }\n",
       "\n",
       "    .dataframe tbody tr th {\n",
       "        vertical-align: top;\n",
       "    }\n",
       "\n",
       "    .dataframe thead th {\n",
       "        text-align: right;\n",
       "    }\n",
       "</style>\n",
       "<table border=\"1\" class=\"dataframe\">\n",
       "  <thead>\n",
       "    <tr style=\"text-align: right;\">\n",
       "      <th></th>\n",
       "      <th>PostalCode</th>\n",
       "      <th>Borough</th>\n",
       "      <th>Neighborhood</th>\n",
       "      <th>Latitude</th>\n",
       "      <th>Longitude</th>\n",
       "    </tr>\n",
       "  </thead>\n",
       "  <tbody>\n",
       "    <tr>\n",
       "      <th>0</th>\n",
       "      <td>20010</td>\n",
       "      <td>Milano</td>\n",
       "      <td>Cornaredo</td>\n",
       "      <td>45.5013</td>\n",
       "      <td>9.0268</td>\n",
       "    </tr>\n",
       "    <tr>\n",
       "      <th>1</th>\n",
       "      <td>20010</td>\n",
       "      <td>Milano</td>\n",
       "      <td>Mesero</td>\n",
       "      <td>45.5023</td>\n",
       "      <td>8.8554</td>\n",
       "    </tr>\n",
       "    <tr>\n",
       "      <th>2</th>\n",
       "      <td>20010</td>\n",
       "      <td>Milano</td>\n",
       "      <td>Rogorotto</td>\n",
       "      <td>45.5062</td>\n",
       "      <td>8.9694</td>\n",
       "    </tr>\n",
       "    <tr>\n",
       "      <th>3</th>\n",
       "      <td>20010</td>\n",
       "      <td>Milano</td>\n",
       "      <td>San Giorgio Su Legnano</td>\n",
       "      <td>45.5738</td>\n",
       "      <td>8.9137</td>\n",
       "    </tr>\n",
       "    <tr>\n",
       "      <th>4</th>\n",
       "      <td>20010</td>\n",
       "      <td>Milano</td>\n",
       "      <td>Vanzago</td>\n",
       "      <td>45.5257</td>\n",
       "      <td>8.9910</td>\n",
       "    </tr>\n",
       "  </tbody>\n",
       "</table>\n",
       "</div>"
      ],
      "text/plain": [
       "   PostalCode Borough            Neighborhood  Latitude  Longitude\n",
       "0       20010  Milano               Cornaredo   45.5013     9.0268\n",
       "1       20010  Milano                  Mesero   45.5023     8.8554\n",
       "2       20010  Milano               Rogorotto   45.5062     8.9694\n",
       "3       20010  Milano  San Giorgio Su Legnano   45.5738     8.9137\n",
       "4       20010  Milano                 Vanzago   45.5257     8.9910"
      ]
     },
     "execution_count": 23,
     "metadata": {},
     "output_type": "execute_result"
    }
   ],
   "source": [
    "#Resetting the index\n",
    "neighborhoodsh.reset_index(inplace = True, drop = True)\n",
    "neighborhoodsh.head()"
   ]
  },
  {
   "cell_type": "code",
   "execution_count": 24,
   "metadata": {},
   "outputs": [
    {
     "data": {
      "text/plain": [
       "(279, 5)"
      ]
     },
     "execution_count": 24,
     "metadata": {},
     "output_type": "execute_result"
    }
   ],
   "source": [
    "neighborhoodsh.shape"
   ]
  },
  {
   "cell_type": "code",
   "execution_count": 25,
   "metadata": {},
   "outputs": [
    {
     "data": {
      "text/html": [
       "<div>\n",
       "<style scoped>\n",
       "    .dataframe tbody tr th:only-of-type {\n",
       "        vertical-align: middle;\n",
       "    }\n",
       "\n",
       "    .dataframe tbody tr th {\n",
       "        vertical-align: top;\n",
       "    }\n",
       "\n",
       "    .dataframe thead th {\n",
       "        text-align: right;\n",
       "    }\n",
       "</style>\n",
       "<table border=\"1\" class=\"dataframe\">\n",
       "  <thead>\n",
       "    <tr style=\"text-align: right;\">\n",
       "      <th></th>\n",
       "      <th>PostalCode</th>\n",
       "      <th>Latitude</th>\n",
       "      <th>Longitude</th>\n",
       "    </tr>\n",
       "  </thead>\n",
       "  <tbody>\n",
       "    <tr>\n",
       "      <th>0</th>\n",
       "      <td>20010</td>\n",
       "      <td>45.5013</td>\n",
       "      <td>9.0268</td>\n",
       "    </tr>\n",
       "    <tr>\n",
       "      <th>1</th>\n",
       "      <td>20010</td>\n",
       "      <td>45.5023</td>\n",
       "      <td>8.8554</td>\n",
       "    </tr>\n",
       "    <tr>\n",
       "      <th>2</th>\n",
       "      <td>20010</td>\n",
       "      <td>45.5062</td>\n",
       "      <td>8.9694</td>\n",
       "    </tr>\n",
       "    <tr>\n",
       "      <th>3</th>\n",
       "      <td>20010</td>\n",
       "      <td>45.5738</td>\n",
       "      <td>8.9137</td>\n",
       "    </tr>\n",
       "    <tr>\n",
       "      <th>4</th>\n",
       "      <td>20010</td>\n",
       "      <td>45.5257</td>\n",
       "      <td>8.9910</td>\n",
       "    </tr>\n",
       "  </tbody>\n",
       "</table>\n",
       "</div>"
      ],
      "text/plain": [
       "   PostalCode  Latitude  Longitude\n",
       "0       20010   45.5013     9.0268\n",
       "1       20010   45.5023     8.8554\n",
       "2       20010   45.5062     8.9694\n",
       "3       20010   45.5738     8.9137\n",
       "4       20010   45.5257     8.9910"
      ]
     },
     "execution_count": 25,
     "metadata": {},
     "output_type": "execute_result"
    }
   ],
   "source": [
    "#Assigning Milano location data columns to separate dataframe in order to merge neighbords with common postal code & borough\n",
    "geo=neighborhoodsh[['PostalCode','Latitude','Longitude']]\n",
    "geo.head()\n"
   ]
  },
  {
   "cell_type": "markdown",
   "metadata": {},
   "source": [
    "__As there are several location values for the same postal code, lets group the data by postal code and take the mean\n",
    "of latitude and longitude values for each postal code__"
   ]
  },
  {
   "cell_type": "code",
   "execution_count": 26,
   "metadata": {},
   "outputs": [],
   "source": [
    "geo1 = geo.groupby('PostalCode').mean().reset_index()"
   ]
  },
  {
   "cell_type": "code",
   "execution_count": 27,
   "metadata": {},
   "outputs": [
    {
     "data": {
      "text/html": [
       "<div>\n",
       "<style scoped>\n",
       "    .dataframe tbody tr th:only-of-type {\n",
       "        vertical-align: middle;\n",
       "    }\n",
       "\n",
       "    .dataframe tbody tr th {\n",
       "        vertical-align: top;\n",
       "    }\n",
       "\n",
       "    .dataframe thead th {\n",
       "        text-align: right;\n",
       "    }\n",
       "</style>\n",
       "<table border=\"1\" class=\"dataframe\">\n",
       "  <thead>\n",
       "    <tr style=\"text-align: right;\">\n",
       "      <th></th>\n",
       "      <th>PostalCode</th>\n",
       "      <th>Latitude</th>\n",
       "      <th>Longitude</th>\n",
       "    </tr>\n",
       "  </thead>\n",
       "  <tbody>\n",
       "    <tr>\n",
       "      <th>0</th>\n",
       "      <td>20010</td>\n",
       "      <td>45.508617</td>\n",
       "      <td>8.918033</td>\n",
       "    </tr>\n",
       "    <tr>\n",
       "      <th>1</th>\n",
       "      <td>20011</td>\n",
       "      <td>45.467200</td>\n",
       "      <td>8.918700</td>\n",
       "    </tr>\n",
       "    <tr>\n",
       "      <th>2</th>\n",
       "      <td>20012</td>\n",
       "      <td>45.506800</td>\n",
       "      <td>8.815500</td>\n",
       "    </tr>\n",
       "    <tr>\n",
       "      <th>3</th>\n",
       "      <td>20013</td>\n",
       "      <td>45.464600</td>\n",
       "      <td>8.884500</td>\n",
       "    </tr>\n",
       "    <tr>\n",
       "      <th>4</th>\n",
       "      <td>20014</td>\n",
       "      <td>45.553400</td>\n",
       "      <td>8.979200</td>\n",
       "    </tr>\n",
       "  </tbody>\n",
       "</table>\n",
       "</div>"
      ],
      "text/plain": [
       "   PostalCode   Latitude  Longitude\n",
       "0       20010  45.508617   8.918033\n",
       "1       20011  45.467200   8.918700\n",
       "2       20012  45.506800   8.815500\n",
       "3       20013  45.464600   8.884500\n",
       "4       20014  45.553400   8.979200"
      ]
     },
     "execution_count": 27,
     "metadata": {},
     "output_type": "execute_result"
    }
   ],
   "source": [
    "geo1.head()"
   ]
  },
  {
   "cell_type": "markdown",
   "metadata": {},
   "source": [
    "__Please note that are no un-assigned Boroughs or Neighborhoods in the file__"
   ]
  },
  {
   "cell_type": "code",
   "execution_count": 28,
   "metadata": {},
   "outputs": [],
   "source": [
    "#Merging neighborhoods in the same row with a comma having the same postal code and borough in Como\n",
    "neighborsh= neighborhoodsh.groupby(['PostalCode','Borough'])['Neighborhood'].agg( ','.join).reset_index()"
   ]
  },
  {
   "cell_type": "code",
   "execution_count": 29,
   "metadata": {},
   "outputs": [
    {
     "data": {
      "text/html": [
       "<div>\n",
       "<style scoped>\n",
       "    .dataframe tbody tr th:only-of-type {\n",
       "        vertical-align: middle;\n",
       "    }\n",
       "\n",
       "    .dataframe tbody tr th {\n",
       "        vertical-align: top;\n",
       "    }\n",
       "\n",
       "    .dataframe thead th {\n",
       "        text-align: right;\n",
       "    }\n",
       "</style>\n",
       "<table border=\"1\" class=\"dataframe\">\n",
       "  <thead>\n",
       "    <tr style=\"text-align: right;\">\n",
       "      <th></th>\n",
       "      <th>PostalCode</th>\n",
       "      <th>Borough</th>\n",
       "      <th>Neighborhood</th>\n",
       "    </tr>\n",
       "  </thead>\n",
       "  <tbody>\n",
       "    <tr>\n",
       "      <th>0</th>\n",
       "      <td>20010</td>\n",
       "      <td>Milano</td>\n",
       "      <td>Cornaredo,Mesero,Rogorotto,San Giorgio Su Legn...</td>\n",
       "    </tr>\n",
       "    <tr>\n",
       "      <th>1</th>\n",
       "      <td>20011</td>\n",
       "      <td>Milano</td>\n",
       "      <td>Corbetta,Battuello,Cerello</td>\n",
       "    </tr>\n",
       "    <tr>\n",
       "      <th>2</th>\n",
       "      <td>20012</td>\n",
       "      <td>Milano</td>\n",
       "      <td>Cuggiono</td>\n",
       "    </tr>\n",
       "    <tr>\n",
       "      <th>3</th>\n",
       "      <td>20013</td>\n",
       "      <td>Milano</td>\n",
       "      <td>Magenta,Ponte Nuovo</td>\n",
       "    </tr>\n",
       "    <tr>\n",
       "      <th>4</th>\n",
       "      <td>20014</td>\n",
       "      <td>Milano</td>\n",
       "      <td>Nerviano,Sant'Ilario Milanese</td>\n",
       "    </tr>\n",
       "  </tbody>\n",
       "</table>\n",
       "</div>"
      ],
      "text/plain": [
       "   PostalCode Borough                                       Neighborhood\n",
       "0       20010  Milano  Cornaredo,Mesero,Rogorotto,San Giorgio Su Legn...\n",
       "1       20011  Milano                         Corbetta,Battuello,Cerello\n",
       "2       20012  Milano                                           Cuggiono\n",
       "3       20013  Milano                                Magenta,Ponte Nuovo\n",
       "4       20014  Milano                      Nerviano,Sant'Ilario Milanese"
      ]
     },
     "execution_count": 29,
     "metadata": {},
     "output_type": "execute_result"
    }
   ],
   "source": [
    "neighborsh.head()"
   ]
  },
  {
   "cell_type": "code",
   "execution_count": 30,
   "metadata": {},
   "outputs": [],
   "source": [
    "#Merging the postalcode, borough and neighborhood table with geospatial data table to create a new dataframe\n",
    "neighborhoods = pd.merge(neighborsh, geo1,on=['PostalCode'], how='inner',sort=False)"
   ]
  },
  {
   "cell_type": "code",
   "execution_count": 31,
   "metadata": {},
   "outputs": [
    {
     "data": {
      "text/html": [
       "<div>\n",
       "<style scoped>\n",
       "    .dataframe tbody tr th:only-of-type {\n",
       "        vertical-align: middle;\n",
       "    }\n",
       "\n",
       "    .dataframe tbody tr th {\n",
       "        vertical-align: top;\n",
       "    }\n",
       "\n",
       "    .dataframe thead th {\n",
       "        text-align: right;\n",
       "    }\n",
       "</style>\n",
       "<table border=\"1\" class=\"dataframe\">\n",
       "  <thead>\n",
       "    <tr style=\"text-align: right;\">\n",
       "      <th></th>\n",
       "      <th>PostalCode</th>\n",
       "      <th>Borough</th>\n",
       "      <th>Neighborhood</th>\n",
       "      <th>Latitude</th>\n",
       "      <th>Longitude</th>\n",
       "    </tr>\n",
       "  </thead>\n",
       "  <tbody>\n",
       "    <tr>\n",
       "      <th>0</th>\n",
       "      <td>20010</td>\n",
       "      <td>Milano</td>\n",
       "      <td>Cornaredo,Mesero,Rogorotto,San Giorgio Su Legn...</td>\n",
       "      <td>45.508617</td>\n",
       "      <td>8.918033</td>\n",
       "    </tr>\n",
       "    <tr>\n",
       "      <th>1</th>\n",
       "      <td>20011</td>\n",
       "      <td>Milano</td>\n",
       "      <td>Corbetta,Battuello,Cerello</td>\n",
       "      <td>45.467200</td>\n",
       "      <td>8.918700</td>\n",
       "    </tr>\n",
       "    <tr>\n",
       "      <th>2</th>\n",
       "      <td>20012</td>\n",
       "      <td>Milano</td>\n",
       "      <td>Cuggiono</td>\n",
       "      <td>45.506800</td>\n",
       "      <td>8.815500</td>\n",
       "    </tr>\n",
       "    <tr>\n",
       "      <th>3</th>\n",
       "      <td>20013</td>\n",
       "      <td>Milano</td>\n",
       "      <td>Magenta,Ponte Nuovo</td>\n",
       "      <td>45.464600</td>\n",
       "      <td>8.884500</td>\n",
       "    </tr>\n",
       "    <tr>\n",
       "      <th>4</th>\n",
       "      <td>20014</td>\n",
       "      <td>Milano</td>\n",
       "      <td>Nerviano,Sant'Ilario Milanese</td>\n",
       "      <td>45.553400</td>\n",
       "      <td>8.979200</td>\n",
       "    </tr>\n",
       "  </tbody>\n",
       "</table>\n",
       "</div>"
      ],
      "text/plain": [
       "   PostalCode Borough                                       Neighborhood  \\\n",
       "0       20010  Milano  Cornaredo,Mesero,Rogorotto,San Giorgio Su Legn...   \n",
       "1       20011  Milano                         Corbetta,Battuello,Cerello   \n",
       "2       20012  Milano                                           Cuggiono   \n",
       "3       20013  Milano                                Magenta,Ponte Nuovo   \n",
       "4       20014  Milano                      Nerviano,Sant'Ilario Milanese   \n",
       "\n",
       "    Latitude  Longitude  \n",
       "0  45.508617   8.918033  \n",
       "1  45.467200   8.918700  \n",
       "2  45.506800   8.815500  \n",
       "3  45.464600   8.884500  \n",
       "4  45.553400   8.979200  "
      ]
     },
     "execution_count": 31,
     "metadata": {},
     "output_type": "execute_result"
    }
   ],
   "source": [
    "#Resetting the index\n",
    "neighborhoods.reset_index(inplace = True, drop = True)\n",
    "neighborhoods.head()"
   ]
  },
  {
   "cell_type": "code",
   "execution_count": 32,
   "metadata": {},
   "outputs": [
    {
     "data": {
      "text/plain": [
       "(96, 5)"
      ]
     },
     "execution_count": 32,
     "metadata": {},
     "output_type": "execute_result"
    }
   ],
   "source": [
    "neighborhoods.shape"
   ]
  },
  {
   "cell_type": "markdown",
   "metadata": {},
   "source": [
    "__Getting data for the Como city__"
   ]
  },
  {
   "cell_type": "code",
   "execution_count": 33,
   "metadata": {},
   "outputs": [
    {
     "data": {
      "text/html": [
       "<div>\n",
       "<style scoped>\n",
       "    .dataframe tbody tr th:only-of-type {\n",
       "        vertical-align: middle;\n",
       "    }\n",
       "\n",
       "    .dataframe tbody tr th {\n",
       "        vertical-align: top;\n",
       "    }\n",
       "\n",
       "    .dataframe thead th {\n",
       "        text-align: right;\n",
       "    }\n",
       "</style>\n",
       "<table border=\"1\" class=\"dataframe\">\n",
       "  <thead>\n",
       "    <tr style=\"text-align: right;\">\n",
       "      <th></th>\n",
       "      <th>PostalCode</th>\n",
       "      <th>Borough</th>\n",
       "      <th>Neighborhood</th>\n",
       "      <th>Latitude</th>\n",
       "      <th>Longitude</th>\n",
       "    </tr>\n",
       "  </thead>\n",
       "  <tbody>\n",
       "    <tr>\n",
       "      <th>731</th>\n",
       "      <td>22010</td>\n",
       "      <td>Como</td>\n",
       "      <td>San Gregorio</td>\n",
       "      <td>46.1464</td>\n",
       "      <td>9.3009</td>\n",
       "    </tr>\n",
       "    <tr>\n",
       "      <th>732</th>\n",
       "      <td>22010</td>\n",
       "      <td>Como</td>\n",
       "      <td>Pianello Del Lario</td>\n",
       "      <td>46.1028</td>\n",
       "      <td>9.2769</td>\n",
       "    </tr>\n",
       "    <tr>\n",
       "      <th>733</th>\n",
       "      <td>22010</td>\n",
       "      <td>Como</td>\n",
       "      <td>San Siro</td>\n",
       "      <td>46.0657</td>\n",
       "      <td>9.2688</td>\n",
       "    </tr>\n",
       "    <tr>\n",
       "      <th>734</th>\n",
       "      <td>22010</td>\n",
       "      <td>Como</td>\n",
       "      <td>Piano Porlezza</td>\n",
       "      <td>46.0333</td>\n",
       "      <td>9.1667</td>\n",
       "    </tr>\n",
       "    <tr>\n",
       "      <th>735</th>\n",
       "      <td>22010</td>\n",
       "      <td>Como</td>\n",
       "      <td>San Bartolomeo Val Cavargna</td>\n",
       "      <td>46.0835</td>\n",
       "      <td>9.1491</td>\n",
       "    </tr>\n",
       "  </tbody>\n",
       "</table>\n",
       "</div>"
      ],
      "text/plain": [
       "     PostalCode Borough                 Neighborhood  Latitude  Longitude\n",
       "731       22010    Como                 San Gregorio   46.1464     9.3009\n",
       "732       22010    Como           Pianello Del Lario   46.1028     9.2769\n",
       "733       22010    Como                     San Siro   46.0657     9.2688\n",
       "734       22010    Como               Piano Porlezza   46.0333     9.1667\n",
       "735       22010    Como  San Bartolomeo Val Cavargna   46.0835     9.1491"
      ]
     },
     "execution_count": 33,
     "metadata": {},
     "output_type": "execute_result"
    }
   ],
   "source": [
    "#Getting data for the Como city\n",
    "neighs=neighborhoodc.get_group('Como')\n",
    "neighs.head()"
   ]
  },
  {
   "cell_type": "code",
   "execution_count": 34,
   "metadata": {},
   "outputs": [
    {
     "data": {
      "text/html": [
       "<div>\n",
       "<style scoped>\n",
       "    .dataframe tbody tr th:only-of-type {\n",
       "        vertical-align: middle;\n",
       "    }\n",
       "\n",
       "    .dataframe tbody tr th {\n",
       "        vertical-align: top;\n",
       "    }\n",
       "\n",
       "    .dataframe thead th {\n",
       "        text-align: right;\n",
       "    }\n",
       "</style>\n",
       "<table border=\"1\" class=\"dataframe\">\n",
       "  <thead>\n",
       "    <tr style=\"text-align: right;\">\n",
       "      <th></th>\n",
       "      <th>PostalCode</th>\n",
       "      <th>Borough</th>\n",
       "      <th>Neighborhood</th>\n",
       "      <th>Latitude</th>\n",
       "      <th>Longitude</th>\n",
       "    </tr>\n",
       "  </thead>\n",
       "  <tbody>\n",
       "    <tr>\n",
       "      <th>0</th>\n",
       "      <td>22010</td>\n",
       "      <td>Como</td>\n",
       "      <td>San Gregorio</td>\n",
       "      <td>46.1464</td>\n",
       "      <td>9.3009</td>\n",
       "    </tr>\n",
       "    <tr>\n",
       "      <th>1</th>\n",
       "      <td>22010</td>\n",
       "      <td>Como</td>\n",
       "      <td>Pianello Del Lario</td>\n",
       "      <td>46.1028</td>\n",
       "      <td>9.2769</td>\n",
       "    </tr>\n",
       "    <tr>\n",
       "      <th>2</th>\n",
       "      <td>22010</td>\n",
       "      <td>Como</td>\n",
       "      <td>San Siro</td>\n",
       "      <td>46.0657</td>\n",
       "      <td>9.2688</td>\n",
       "    </tr>\n",
       "    <tr>\n",
       "      <th>3</th>\n",
       "      <td>22010</td>\n",
       "      <td>Como</td>\n",
       "      <td>Piano Porlezza</td>\n",
       "      <td>46.0333</td>\n",
       "      <td>9.1667</td>\n",
       "    </tr>\n",
       "    <tr>\n",
       "      <th>4</th>\n",
       "      <td>22010</td>\n",
       "      <td>Como</td>\n",
       "      <td>San Bartolomeo Val Cavargna</td>\n",
       "      <td>46.0835</td>\n",
       "      <td>9.1491</td>\n",
       "    </tr>\n",
       "  </tbody>\n",
       "</table>\n",
       "</div>"
      ],
      "text/plain": [
       "   PostalCode Borough                 Neighborhood  Latitude  Longitude\n",
       "0       22010    Como                 San Gregorio   46.1464     9.3009\n",
       "1       22010    Como           Pianello Del Lario   46.1028     9.2769\n",
       "2       22010    Como                     San Siro   46.0657     9.2688\n",
       "3       22010    Como               Piano Porlezza   46.0333     9.1667\n",
       "4       22010    Como  San Bartolomeo Val Cavargna   46.0835     9.1491"
      ]
     },
     "execution_count": 34,
     "metadata": {},
     "output_type": "execute_result"
    }
   ],
   "source": [
    "neighs.reset_index(inplace = True, drop = True)\n",
    "neighs.head()"
   ]
  },
  {
   "cell_type": "code",
   "execution_count": 35,
   "metadata": {},
   "outputs": [
    {
     "data": {
      "text/html": [
       "<div>\n",
       "<style scoped>\n",
       "    .dataframe tbody tr th:only-of-type {\n",
       "        vertical-align: middle;\n",
       "    }\n",
       "\n",
       "    .dataframe tbody tr th {\n",
       "        vertical-align: top;\n",
       "    }\n",
       "\n",
       "    .dataframe thead th {\n",
       "        text-align: right;\n",
       "    }\n",
       "</style>\n",
       "<table border=\"1\" class=\"dataframe\">\n",
       "  <thead>\n",
       "    <tr style=\"text-align: right;\">\n",
       "      <th></th>\n",
       "      <th>PostalCode</th>\n",
       "      <th>Latitude</th>\n",
       "      <th>Longitude</th>\n",
       "    </tr>\n",
       "  </thead>\n",
       "  <tbody>\n",
       "    <tr>\n",
       "      <th>0</th>\n",
       "      <td>22010</td>\n",
       "      <td>46.1464</td>\n",
       "      <td>9.3009</td>\n",
       "    </tr>\n",
       "    <tr>\n",
       "      <th>1</th>\n",
       "      <td>22010</td>\n",
       "      <td>46.1028</td>\n",
       "      <td>9.2769</td>\n",
       "    </tr>\n",
       "    <tr>\n",
       "      <th>2</th>\n",
       "      <td>22010</td>\n",
       "      <td>46.0657</td>\n",
       "      <td>9.2688</td>\n",
       "    </tr>\n",
       "    <tr>\n",
       "      <th>3</th>\n",
       "      <td>22010</td>\n",
       "      <td>46.0333</td>\n",
       "      <td>9.1667</td>\n",
       "    </tr>\n",
       "    <tr>\n",
       "      <th>4</th>\n",
       "      <td>22010</td>\n",
       "      <td>46.0835</td>\n",
       "      <td>9.1491</td>\n",
       "    </tr>\n",
       "  </tbody>\n",
       "</table>\n",
       "</div>"
      ],
      "text/plain": [
       "   PostalCode  Latitude  Longitude\n",
       "0       22010   46.1464     9.3009\n",
       "1       22010   46.1028     9.2769\n",
       "2       22010   46.0657     9.2688\n",
       "3       22010   46.0333     9.1667\n",
       "4       22010   46.0835     9.1491"
      ]
     },
     "execution_count": 35,
     "metadata": {},
     "output_type": "execute_result"
    }
   ],
   "source": [
    "#Assigning Como location data columns to separate dataframe\n",
    "geodata=neighs[['PostalCode','Latitude','Longitude']]\n",
    "geodata.head()"
   ]
  },
  {
   "cell_type": "markdown",
   "metadata": {},
   "source": [
    "__As there are several location values for the same postal code, we can group the data by postal code and take the mean\n",
    "of latitude and longitude values for each postal code__"
   ]
  },
  {
   "cell_type": "code",
   "execution_count": 36,
   "metadata": {},
   "outputs": [],
   "source": [
    "geodata1 = geodata.groupby('PostalCode').mean().reset_index()"
   ]
  },
  {
   "cell_type": "code",
   "execution_count": 37,
   "metadata": {},
   "outputs": [
    {
     "data": {
      "text/html": [
       "<div>\n",
       "<style scoped>\n",
       "    .dataframe tbody tr th:only-of-type {\n",
       "        vertical-align: middle;\n",
       "    }\n",
       "\n",
       "    .dataframe tbody tr th {\n",
       "        vertical-align: top;\n",
       "    }\n",
       "\n",
       "    .dataframe thead th {\n",
       "        text-align: right;\n",
       "    }\n",
       "</style>\n",
       "<table border=\"1\" class=\"dataframe\">\n",
       "  <thead>\n",
       "    <tr style=\"text-align: right;\">\n",
       "      <th></th>\n",
       "      <th>PostalCode</th>\n",
       "      <th>Latitude</th>\n",
       "      <th>Longitude</th>\n",
       "    </tr>\n",
       "  </thead>\n",
       "  <tbody>\n",
       "    <tr>\n",
       "      <th>0</th>\n",
       "      <td>22010</td>\n",
       "      <td>46.049728</td>\n",
       "      <td>9.209642</td>\n",
       "    </tr>\n",
       "    <tr>\n",
       "      <th>1</th>\n",
       "      <td>22011</td>\n",
       "      <td>45.991950</td>\n",
       "      <td>9.235850</td>\n",
       "    </tr>\n",
       "    <tr>\n",
       "      <th>2</th>\n",
       "      <td>22012</td>\n",
       "      <td>45.843100</td>\n",
       "      <td>9.071900</td>\n",
       "    </tr>\n",
       "    <tr>\n",
       "      <th>3</th>\n",
       "      <td>22013</td>\n",
       "      <td>46.156150</td>\n",
       "      <td>9.333300</td>\n",
       "    </tr>\n",
       "    <tr>\n",
       "      <th>4</th>\n",
       "      <td>22014</td>\n",
       "      <td>46.130000</td>\n",
       "      <td>9.281700</td>\n",
       "    </tr>\n",
       "  </tbody>\n",
       "</table>\n",
       "</div>"
      ],
      "text/plain": [
       "   PostalCode   Latitude  Longitude\n",
       "0       22010  46.049728   9.209642\n",
       "1       22011  45.991950   9.235850\n",
       "2       22012  45.843100   9.071900\n",
       "3       22013  46.156150   9.333300\n",
       "4       22014  46.130000   9.281700"
      ]
     },
     "execution_count": 37,
     "metadata": {},
     "output_type": "execute_result"
    }
   ],
   "source": [
    "geodata1.head()"
   ]
  },
  {
   "cell_type": "markdown",
   "metadata": {},
   "source": [
    "__Please note that are no un-assigned Boroughs or Neighborhoods in the file__"
   ]
  },
  {
   "cell_type": "code",
   "execution_count": 38,
   "metadata": {},
   "outputs": [],
   "source": [
    "#Merging neighborhoods in the same row with a comma having the same postal code and borough in Como\n",
    "neighbors= neighs.groupby(['PostalCode','Borough'])['Neighborhood'].agg( ','.join).reset_index()"
   ]
  },
  {
   "cell_type": "code",
   "execution_count": 39,
   "metadata": {},
   "outputs": [
    {
     "data": {
      "text/html": [
       "<div>\n",
       "<style scoped>\n",
       "    .dataframe tbody tr th:only-of-type {\n",
       "        vertical-align: middle;\n",
       "    }\n",
       "\n",
       "    .dataframe tbody tr th {\n",
       "        vertical-align: top;\n",
       "    }\n",
       "\n",
       "    .dataframe thead th {\n",
       "        text-align: right;\n",
       "    }\n",
       "</style>\n",
       "<table border=\"1\" class=\"dataframe\">\n",
       "  <thead>\n",
       "    <tr style=\"text-align: right;\">\n",
       "      <th></th>\n",
       "      <th>PostalCode</th>\n",
       "      <th>Borough</th>\n",
       "      <th>Neighborhood</th>\n",
       "    </tr>\n",
       "  </thead>\n",
       "  <tbody>\n",
       "    <tr>\n",
       "      <th>0</th>\n",
       "      <td>22010</td>\n",
       "      <td>Como</td>\n",
       "      <td>San Gregorio,Pianello Del Lario,San Siro,Piano...</td>\n",
       "    </tr>\n",
       "    <tr>\n",
       "      <th>1</th>\n",
       "      <td>22011</td>\n",
       "      <td>Como</td>\n",
       "      <td>Griante,Cadenabbia</td>\n",
       "    </tr>\n",
       "    <tr>\n",
       "      <th>2</th>\n",
       "      <td>22012</td>\n",
       "      <td>Como</td>\n",
       "      <td>Cernobbio</td>\n",
       "    </tr>\n",
       "    <tr>\n",
       "      <th>3</th>\n",
       "      <td>22013</td>\n",
       "      <td>Como</td>\n",
       "      <td>Vercana,Domaso</td>\n",
       "    </tr>\n",
       "    <tr>\n",
       "      <th>4</th>\n",
       "      <td>22014</td>\n",
       "      <td>Como</td>\n",
       "      <td>Dongo</td>\n",
       "    </tr>\n",
       "    <tr>\n",
       "      <th>5</th>\n",
       "      <td>22015</td>\n",
       "      <td>Como</td>\n",
       "      <td>Gravedona</td>\n",
       "    </tr>\n",
       "    <tr>\n",
       "      <th>6</th>\n",
       "      <td>22016</td>\n",
       "      <td>Como</td>\n",
       "      <td>Lenno,Tremezzina</td>\n",
       "    </tr>\n",
       "    <tr>\n",
       "      <th>7</th>\n",
       "      <td>22017</td>\n",
       "      <td>Como</td>\n",
       "      <td>Menaggio</td>\n",
       "    </tr>\n",
       "    <tr>\n",
       "      <th>8</th>\n",
       "      <td>22018</td>\n",
       "      <td>Como</td>\n",
       "      <td>Porlezza,Cima</td>\n",
       "    </tr>\n",
       "    <tr>\n",
       "      <th>9</th>\n",
       "      <td>22019</td>\n",
       "      <td>Como</td>\n",
       "      <td>Tremezzo</td>\n",
       "    </tr>\n",
       "  </tbody>\n",
       "</table>\n",
       "</div>"
      ],
      "text/plain": [
       "   PostalCode Borough                                       Neighborhood\n",
       "0       22010    Como  San Gregorio,Pianello Del Lario,San Siro,Piano...\n",
       "1       22011    Como                                 Griante,Cadenabbia\n",
       "2       22012    Como                                          Cernobbio\n",
       "3       22013    Como                                     Vercana,Domaso\n",
       "4       22014    Como                                              Dongo\n",
       "5       22015    Como                                          Gravedona\n",
       "6       22016    Como                                   Lenno,Tremezzina\n",
       "7       22017    Como                                           Menaggio\n",
       "8       22018    Como                                      Porlezza,Cima\n",
       "9       22019    Como                                           Tremezzo"
      ]
     },
     "execution_count": 39,
     "metadata": {},
     "output_type": "execute_result"
    }
   ],
   "source": [
    "neighbors.head(10)"
   ]
  },
  {
   "cell_type": "code",
   "execution_count": 40,
   "metadata": {},
   "outputs": [
    {
     "data": {
      "text/plain": [
       "(50, 3)"
      ]
     },
     "execution_count": 40,
     "metadata": {},
     "output_type": "execute_result"
    }
   ],
   "source": [
    "neighbors.shape"
   ]
  },
  {
   "cell_type": "code",
   "execution_count": 41,
   "metadata": {},
   "outputs": [
    {
     "data": {
      "text/html": [
       "<div>\n",
       "<style scoped>\n",
       "    .dataframe tbody tr th:only-of-type {\n",
       "        vertical-align: middle;\n",
       "    }\n",
       "\n",
       "    .dataframe tbody tr th {\n",
       "        vertical-align: top;\n",
       "    }\n",
       "\n",
       "    .dataframe thead th {\n",
       "        text-align: right;\n",
       "    }\n",
       "</style>\n",
       "<table border=\"1\" class=\"dataframe\">\n",
       "  <thead>\n",
       "    <tr style=\"text-align: right;\">\n",
       "      <th></th>\n",
       "      <th>PostalCode</th>\n",
       "      <th>Borough</th>\n",
       "      <th>Neighborhood</th>\n",
       "      <th>Latitude</th>\n",
       "      <th>Longitude</th>\n",
       "    </tr>\n",
       "  </thead>\n",
       "  <tbody>\n",
       "    <tr>\n",
       "      <th>0</th>\n",
       "      <td>22010</td>\n",
       "      <td>Como</td>\n",
       "      <td>San Gregorio,Pianello Del Lario,San Siro,Piano...</td>\n",
       "      <td>46.049728</td>\n",
       "      <td>9.209642</td>\n",
       "    </tr>\n",
       "    <tr>\n",
       "      <th>1</th>\n",
       "      <td>22011</td>\n",
       "      <td>Como</td>\n",
       "      <td>Griante,Cadenabbia</td>\n",
       "      <td>45.991950</td>\n",
       "      <td>9.235850</td>\n",
       "    </tr>\n",
       "    <tr>\n",
       "      <th>2</th>\n",
       "      <td>22012</td>\n",
       "      <td>Como</td>\n",
       "      <td>Cernobbio</td>\n",
       "      <td>45.843100</td>\n",
       "      <td>9.071900</td>\n",
       "    </tr>\n",
       "    <tr>\n",
       "      <th>3</th>\n",
       "      <td>22013</td>\n",
       "      <td>Como</td>\n",
       "      <td>Vercana,Domaso</td>\n",
       "      <td>46.156150</td>\n",
       "      <td>9.333300</td>\n",
       "    </tr>\n",
       "    <tr>\n",
       "      <th>4</th>\n",
       "      <td>22014</td>\n",
       "      <td>Como</td>\n",
       "      <td>Dongo</td>\n",
       "      <td>46.130000</td>\n",
       "      <td>9.281700</td>\n",
       "    </tr>\n",
       "  </tbody>\n",
       "</table>\n",
       "</div>"
      ],
      "text/plain": [
       "   PostalCode Borough                                       Neighborhood  \\\n",
       "0       22010    Como  San Gregorio,Pianello Del Lario,San Siro,Piano...   \n",
       "1       22011    Como                                 Griante,Cadenabbia   \n",
       "2       22012    Como                                          Cernobbio   \n",
       "3       22013    Como                                     Vercana,Domaso   \n",
       "4       22014    Como                                              Dongo   \n",
       "\n",
       "    Latitude  Longitude  \n",
       "0  46.049728   9.209642  \n",
       "1  45.991950   9.235850  \n",
       "2  45.843100   9.071900  \n",
       "3  46.156150   9.333300  \n",
       "4  46.130000   9.281700  "
      ]
     },
     "execution_count": 41,
     "metadata": {},
     "output_type": "execute_result"
    }
   ],
   "source": [
    "#Merging the postalcode, borough and neighborhood table with geospatial data table to create a new dataframe\n",
    "cneighborhoods = pd.merge(neighbors, geodata1,on=['PostalCode'], how='inner',sort=False)\n",
    "       \n",
    "cneighborhoods.head()"
   ]
  },
  {
   "cell_type": "code",
   "execution_count": 42,
   "metadata": {},
   "outputs": [
    {
     "data": {
      "text/plain": [
       "(50, 5)"
      ]
     },
     "execution_count": 42,
     "metadata": {},
     "output_type": "execute_result"
    }
   ],
   "source": [
    "cneighborhoods.shape"
   ]
  },
  {
   "cell_type": "code",
   "execution_count": 43,
   "metadata": {
    "collapsed": false,
    "jupyter": {
     "outputs_hidden": false
    }
   },
   "outputs": [
    {
     "name": "stdout",
     "output_type": "stream",
     "text": [
      "Solving environment: done\n",
      "\n",
      "\n",
      "==> WARNING: A newer version of conda exists. <==\n",
      "  current version: 4.5.11\n",
      "  latest version: 4.7.12\n",
      "\n",
      "Please update conda by running\n",
      "\n",
      "    $ conda update -n base -c defaults conda\n",
      "\n",
      "\n",
      "\n",
      "## Package Plan ##\n",
      "\n",
      "  environment location: /home/jupyterlab/conda/envs/python\n",
      "\n",
      "  added / updated specs: \n",
      "    - geopy\n",
      "\n",
      "\n",
      "The following packages will be downloaded:\n",
      "\n",
      "    package                    |            build\n",
      "    ---------------------------|-----------------\n",
      "    geopy-1.20.0               |             py_0          57 KB  conda-forge\n",
      "    geographiclib-1.50         |             py_0          34 KB  conda-forge\n",
      "    ------------------------------------------------------------\n",
      "                                           Total:          91 KB\n",
      "\n",
      "The following NEW packages will be INSTALLED:\n",
      "\n",
      "    geographiclib: 1.50-py_0   conda-forge\n",
      "    geopy:         1.20.0-py_0 conda-forge\n",
      "\n",
      "\n",
      "Downloading and Extracting Packages\n",
      "geopy-1.20.0         | 57 KB     | ##################################### | 100% \n",
      "geographiclib-1.50   | 34 KB     | ##################################### | 100% \n",
      "Preparing transaction: done\n",
      "Verifying transaction: done\n",
      "Executing transaction: done\n",
      "Solving environment: done\n",
      "\n",
      "\n",
      "==> WARNING: A newer version of conda exists. <==\n",
      "  current version: 4.5.11\n",
      "  latest version: 4.7.12\n",
      "\n",
      "Please update conda by running\n",
      "\n",
      "    $ conda update -n base -c defaults conda\n",
      "\n",
      "\n",
      "\n",
      "## Package Plan ##\n",
      "\n",
      "  environment location: /home/jupyterlab/conda/envs/python\n",
      "\n",
      "  added / updated specs: \n",
      "    - folium=0.5.0\n",
      "\n",
      "\n",
      "The following packages will be downloaded:\n",
      "\n",
      "    package                    |            build\n",
      "    ---------------------------|-----------------\n",
      "    pandas-0.25.3              |   py36hb3f55d8_0        11.4 MB  conda-forge\n",
      "    tbb4py-2019.9              |   py36hc9558a2_0         245 KB  conda-forge\n",
      "    ------------------------------------------------------------\n",
      "                                           Total:        11.7 MB\n",
      "\n",
      "The following NEW packages will be INSTALLED:\n",
      "\n",
      "    tbb:    2019.9-hc9558a2_0     conda-forge\n",
      "    tbb4py: 2019.9-py36hc9558a2_0 conda-forge\n",
      "\n",
      "The following packages will be UPDATED:\n",
      "\n",
      "    pandas: 0.25.2-py36hb3f55d8_0 conda-forge --> 0.25.3-py36hb3f55d8_0 conda-forge\n",
      "\n",
      "\n",
      "Downloading and Extracting Packages\n",
      "pandas-0.25.3        | 11.4 MB   | ##################################### | 100% \n",
      "tbb4py-2019.9        | 245 KB    | ##################################### | 100% \n",
      "Preparing transaction: done\n",
      "Verifying transaction: done\n",
      "Executing transaction: done\n",
      "Libraries imported.\n"
     ]
    }
   ],
   "source": [
    "import numpy as np # library to handle data in a vectorized manner\n",
    "\n",
    "import pandas as pd # library for data analsysis\n",
    "pd.set_option('display.max_columns', None)\n",
    "pd.set_option('display.max_rows', None)\n",
    "\n",
    "\n",
    "import json # library to handle JSON files\n",
    "\n",
    "!conda install -c conda-forge geopy --yes \n",
    "from geopy.geocoders import Nominatim # convert an address into latitude and longitude values\n",
    "\n",
    "import requests # library to handle requests\n",
    "from pandas.io.json import json_normalize # tranform JSON file into a pandas dataframe\n",
    "\n",
    "# Matplotlib and associated plotting modules\n",
    "import matplotlib.cm as cm\n",
    "import matplotlib.colors as colors\n",
    "\n",
    "# import k-means from clustering stage\n",
    "from sklearn.cluster import KMeans\n",
    "\n",
    "!conda install -c conda-forge folium=0.5.0 --yes \n",
    "import folium # map rendering library\n",
    "\n",
    "print('Libraries imported.')"
   ]
  },
  {
   "cell_type": "markdown",
   "metadata": {},
   "source": [
    "## 1. Looking for hotels,event space, shopping malls, fashion stores, restaurants and cafes in Milan Area of the City and also other areas in the City."
   ]
  },
  {
   "cell_type": "markdown",
   "metadata": {},
   "source": [
    "__Use geopy library to get the latitude and longitude values of Milan City__"
   ]
  },
  {
   "cell_type": "code",
   "execution_count": 44,
   "metadata": {},
   "outputs": [
    {
     "ename": "GeocoderServiceError",
     "evalue": "[Errno 99] Cannot assign requested address",
     "output_type": "error",
     "traceback": [
      "\u001b[0;31m---------------------------------------------------------------------------\u001b[0m",
      "\u001b[0;31mOSError\u001b[0m                                   Traceback (most recent call last)",
      "\u001b[0;32m~/conda/envs/python/lib/python3.6/urllib/request.py\u001b[0m in \u001b[0;36mdo_open\u001b[0;34m(self, http_class, req, **http_conn_args)\u001b[0m\n\u001b[1;32m   1317\u001b[0m                 h.request(req.get_method(), req.selector, req.data, headers,\n\u001b[0;32m-> 1318\u001b[0;31m                           encode_chunked=req.has_header('Transfer-encoding'))\n\u001b[0m\u001b[1;32m   1319\u001b[0m             \u001b[0;32mexcept\u001b[0m \u001b[0mOSError\u001b[0m \u001b[0;32mas\u001b[0m \u001b[0merr\u001b[0m\u001b[0;34m:\u001b[0m \u001b[0;31m# timeout error\u001b[0m\u001b[0;34m\u001b[0m\u001b[0;34m\u001b[0m\u001b[0m\n",
      "\u001b[0;32m~/conda/envs/python/lib/python3.6/http/client.py\u001b[0m in \u001b[0;36mrequest\u001b[0;34m(self, method, url, body, headers, encode_chunked)\u001b[0m\n\u001b[1;32m   1238\u001b[0m         \u001b[0;34m\"\"\"Send a complete request to the server.\"\"\"\u001b[0m\u001b[0;34m\u001b[0m\u001b[0;34m\u001b[0m\u001b[0m\n\u001b[0;32m-> 1239\u001b[0;31m         \u001b[0mself\u001b[0m\u001b[0;34m.\u001b[0m\u001b[0m_send_request\u001b[0m\u001b[0;34m(\u001b[0m\u001b[0mmethod\u001b[0m\u001b[0;34m,\u001b[0m \u001b[0murl\u001b[0m\u001b[0;34m,\u001b[0m \u001b[0mbody\u001b[0m\u001b[0;34m,\u001b[0m \u001b[0mheaders\u001b[0m\u001b[0;34m,\u001b[0m \u001b[0mencode_chunked\u001b[0m\u001b[0;34m)\u001b[0m\u001b[0;34m\u001b[0m\u001b[0;34m\u001b[0m\u001b[0m\n\u001b[0m\u001b[1;32m   1240\u001b[0m \u001b[0;34m\u001b[0m\u001b[0m\n",
      "\u001b[0;32m~/conda/envs/python/lib/python3.6/http/client.py\u001b[0m in \u001b[0;36m_send_request\u001b[0;34m(self, method, url, body, headers, encode_chunked)\u001b[0m\n\u001b[1;32m   1284\u001b[0m             \u001b[0mbody\u001b[0m \u001b[0;34m=\u001b[0m \u001b[0m_encode\u001b[0m\u001b[0;34m(\u001b[0m\u001b[0mbody\u001b[0m\u001b[0;34m,\u001b[0m \u001b[0;34m'body'\u001b[0m\u001b[0;34m)\u001b[0m\u001b[0;34m\u001b[0m\u001b[0;34m\u001b[0m\u001b[0m\n\u001b[0;32m-> 1285\u001b[0;31m         \u001b[0mself\u001b[0m\u001b[0;34m.\u001b[0m\u001b[0mendheaders\u001b[0m\u001b[0;34m(\u001b[0m\u001b[0mbody\u001b[0m\u001b[0;34m,\u001b[0m \u001b[0mencode_chunked\u001b[0m\u001b[0;34m=\u001b[0m\u001b[0mencode_chunked\u001b[0m\u001b[0;34m)\u001b[0m\u001b[0;34m\u001b[0m\u001b[0;34m\u001b[0m\u001b[0m\n\u001b[0m\u001b[1;32m   1286\u001b[0m \u001b[0;34m\u001b[0m\u001b[0m\n",
      "\u001b[0;32m~/conda/envs/python/lib/python3.6/http/client.py\u001b[0m in \u001b[0;36mendheaders\u001b[0;34m(self, message_body, encode_chunked)\u001b[0m\n\u001b[1;32m   1233\u001b[0m             \u001b[0;32mraise\u001b[0m \u001b[0mCannotSendHeader\u001b[0m\u001b[0;34m(\u001b[0m\u001b[0;34m)\u001b[0m\u001b[0;34m\u001b[0m\u001b[0;34m\u001b[0m\u001b[0m\n\u001b[0;32m-> 1234\u001b[0;31m         \u001b[0mself\u001b[0m\u001b[0;34m.\u001b[0m\u001b[0m_send_output\u001b[0m\u001b[0;34m(\u001b[0m\u001b[0mmessage_body\u001b[0m\u001b[0;34m,\u001b[0m \u001b[0mencode_chunked\u001b[0m\u001b[0;34m=\u001b[0m\u001b[0mencode_chunked\u001b[0m\u001b[0;34m)\u001b[0m\u001b[0;34m\u001b[0m\u001b[0;34m\u001b[0m\u001b[0m\n\u001b[0m\u001b[1;32m   1235\u001b[0m \u001b[0;34m\u001b[0m\u001b[0m\n",
      "\u001b[0;32m~/conda/envs/python/lib/python3.6/http/client.py\u001b[0m in \u001b[0;36m_send_output\u001b[0;34m(self, message_body, encode_chunked)\u001b[0m\n\u001b[1;32m   1025\u001b[0m         \u001b[0;32mdel\u001b[0m \u001b[0mself\u001b[0m\u001b[0;34m.\u001b[0m\u001b[0m_buffer\u001b[0m\u001b[0;34m[\u001b[0m\u001b[0;34m:\u001b[0m\u001b[0;34m]\u001b[0m\u001b[0;34m\u001b[0m\u001b[0;34m\u001b[0m\u001b[0m\n\u001b[0;32m-> 1026\u001b[0;31m         \u001b[0mself\u001b[0m\u001b[0;34m.\u001b[0m\u001b[0msend\u001b[0m\u001b[0;34m(\u001b[0m\u001b[0mmsg\u001b[0m\u001b[0;34m)\u001b[0m\u001b[0;34m\u001b[0m\u001b[0;34m\u001b[0m\u001b[0m\n\u001b[0m\u001b[1;32m   1027\u001b[0m \u001b[0;34m\u001b[0m\u001b[0m\n",
      "\u001b[0;32m~/conda/envs/python/lib/python3.6/http/client.py\u001b[0m in \u001b[0;36msend\u001b[0;34m(self, data)\u001b[0m\n\u001b[1;32m    963\u001b[0m             \u001b[0;32mif\u001b[0m \u001b[0mself\u001b[0m\u001b[0;34m.\u001b[0m\u001b[0mauto_open\u001b[0m\u001b[0;34m:\u001b[0m\u001b[0;34m\u001b[0m\u001b[0;34m\u001b[0m\u001b[0m\n\u001b[0;32m--> 964\u001b[0;31m                 \u001b[0mself\u001b[0m\u001b[0;34m.\u001b[0m\u001b[0mconnect\u001b[0m\u001b[0;34m(\u001b[0m\u001b[0;34m)\u001b[0m\u001b[0;34m\u001b[0m\u001b[0;34m\u001b[0m\u001b[0m\n\u001b[0m\u001b[1;32m    965\u001b[0m             \u001b[0;32melse\u001b[0m\u001b[0;34m:\u001b[0m\u001b[0;34m\u001b[0m\u001b[0;34m\u001b[0m\u001b[0m\n",
      "\u001b[0;32m~/conda/envs/python/lib/python3.6/http/client.py\u001b[0m in \u001b[0;36mconnect\u001b[0;34m(self)\u001b[0m\n\u001b[1;32m   1391\u001b[0m \u001b[0;34m\u001b[0m\u001b[0m\n\u001b[0;32m-> 1392\u001b[0;31m             \u001b[0msuper\u001b[0m\u001b[0;34m(\u001b[0m\u001b[0;34m)\u001b[0m\u001b[0;34m.\u001b[0m\u001b[0mconnect\u001b[0m\u001b[0;34m(\u001b[0m\u001b[0;34m)\u001b[0m\u001b[0;34m\u001b[0m\u001b[0;34m\u001b[0m\u001b[0m\n\u001b[0m\u001b[1;32m   1393\u001b[0m \u001b[0;34m\u001b[0m\u001b[0m\n",
      "\u001b[0;32m~/conda/envs/python/lib/python3.6/http/client.py\u001b[0m in \u001b[0;36mconnect\u001b[0;34m(self)\u001b[0m\n\u001b[1;32m    935\u001b[0m         self.sock = self._create_connection(\n\u001b[0;32m--> 936\u001b[0;31m             (self.host,self.port), self.timeout, self.source_address)\n\u001b[0m\u001b[1;32m    937\u001b[0m         \u001b[0mself\u001b[0m\u001b[0;34m.\u001b[0m\u001b[0msock\u001b[0m\u001b[0;34m.\u001b[0m\u001b[0msetsockopt\u001b[0m\u001b[0;34m(\u001b[0m\u001b[0msocket\u001b[0m\u001b[0;34m.\u001b[0m\u001b[0mIPPROTO_TCP\u001b[0m\u001b[0;34m,\u001b[0m \u001b[0msocket\u001b[0m\u001b[0;34m.\u001b[0m\u001b[0mTCP_NODELAY\u001b[0m\u001b[0;34m,\u001b[0m \u001b[0;36m1\u001b[0m\u001b[0;34m)\u001b[0m\u001b[0;34m\u001b[0m\u001b[0;34m\u001b[0m\u001b[0m\n",
      "\u001b[0;32m~/conda/envs/python/lib/python3.6/socket.py\u001b[0m in \u001b[0;36mcreate_connection\u001b[0;34m(address, timeout, source_address)\u001b[0m\n\u001b[1;32m    723\u001b[0m     \u001b[0;32mif\u001b[0m \u001b[0merr\u001b[0m \u001b[0;32mis\u001b[0m \u001b[0;32mnot\u001b[0m \u001b[0;32mNone\u001b[0m\u001b[0;34m:\u001b[0m\u001b[0;34m\u001b[0m\u001b[0;34m\u001b[0m\u001b[0m\n\u001b[0;32m--> 724\u001b[0;31m         \u001b[0;32mraise\u001b[0m \u001b[0merr\u001b[0m\u001b[0;34m\u001b[0m\u001b[0;34m\u001b[0m\u001b[0m\n\u001b[0m\u001b[1;32m    725\u001b[0m     \u001b[0;32melse\u001b[0m\u001b[0;34m:\u001b[0m\u001b[0;34m\u001b[0m\u001b[0;34m\u001b[0m\u001b[0m\n",
      "\u001b[0;32m~/conda/envs/python/lib/python3.6/socket.py\u001b[0m in \u001b[0;36mcreate_connection\u001b[0;34m(address, timeout, source_address)\u001b[0m\n\u001b[1;32m    712\u001b[0m                 \u001b[0msock\u001b[0m\u001b[0;34m.\u001b[0m\u001b[0mbind\u001b[0m\u001b[0;34m(\u001b[0m\u001b[0msource_address\u001b[0m\u001b[0;34m)\u001b[0m\u001b[0;34m\u001b[0m\u001b[0;34m\u001b[0m\u001b[0m\n\u001b[0;32m--> 713\u001b[0;31m             \u001b[0msock\u001b[0m\u001b[0;34m.\u001b[0m\u001b[0mconnect\u001b[0m\u001b[0;34m(\u001b[0m\u001b[0msa\u001b[0m\u001b[0;34m)\u001b[0m\u001b[0;34m\u001b[0m\u001b[0;34m\u001b[0m\u001b[0m\n\u001b[0m\u001b[1;32m    714\u001b[0m             \u001b[0;31m# Break explicitly a reference cycle\u001b[0m\u001b[0;34m\u001b[0m\u001b[0;34m\u001b[0m\u001b[0;34m\u001b[0m\u001b[0m\n",
      "\u001b[0;31mOSError\u001b[0m: [Errno 99] Cannot assign requested address",
      "\nDuring handling of the above exception, another exception occurred:\n",
      "\u001b[0;31mURLError\u001b[0m                                  Traceback (most recent call last)",
      "\u001b[0;32m~/conda/envs/python/lib/python3.6/site-packages/geopy/geocoders/base.py\u001b[0m in \u001b[0;36m_call_geocoder\u001b[0;34m(self, url, timeout, raw, requester, deserializer, **kwargs)\u001b[0m\n\u001b[1;32m    354\u001b[0m         \u001b[0;32mtry\u001b[0m\u001b[0;34m:\u001b[0m\u001b[0;34m\u001b[0m\u001b[0;34m\u001b[0m\u001b[0m\n\u001b[0;32m--> 355\u001b[0;31m             \u001b[0mpage\u001b[0m \u001b[0;34m=\u001b[0m \u001b[0mrequester\u001b[0m\u001b[0;34m(\u001b[0m\u001b[0mreq\u001b[0m\u001b[0;34m,\u001b[0m \u001b[0mtimeout\u001b[0m\u001b[0;34m=\u001b[0m\u001b[0mtimeout\u001b[0m\u001b[0;34m,\u001b[0m \u001b[0;34m**\u001b[0m\u001b[0mkwargs\u001b[0m\u001b[0;34m)\u001b[0m\u001b[0;34m\u001b[0m\u001b[0;34m\u001b[0m\u001b[0m\n\u001b[0m\u001b[1;32m    356\u001b[0m         \u001b[0;32mexcept\u001b[0m \u001b[0mException\u001b[0m \u001b[0;32mas\u001b[0m \u001b[0merror\u001b[0m\u001b[0;34m:\u001b[0m\u001b[0;34m\u001b[0m\u001b[0;34m\u001b[0m\u001b[0m\n",
      "\u001b[0;32m~/conda/envs/python/lib/python3.6/urllib/request.py\u001b[0m in \u001b[0;36mopen\u001b[0;34m(self, fullurl, data, timeout)\u001b[0m\n\u001b[1;32m    525\u001b[0m \u001b[0;34m\u001b[0m\u001b[0m\n\u001b[0;32m--> 526\u001b[0;31m         \u001b[0mresponse\u001b[0m \u001b[0;34m=\u001b[0m \u001b[0mself\u001b[0m\u001b[0;34m.\u001b[0m\u001b[0m_open\u001b[0m\u001b[0;34m(\u001b[0m\u001b[0mreq\u001b[0m\u001b[0;34m,\u001b[0m \u001b[0mdata\u001b[0m\u001b[0;34m)\u001b[0m\u001b[0;34m\u001b[0m\u001b[0;34m\u001b[0m\u001b[0m\n\u001b[0m\u001b[1;32m    527\u001b[0m \u001b[0;34m\u001b[0m\u001b[0m\n",
      "\u001b[0;32m~/conda/envs/python/lib/python3.6/urllib/request.py\u001b[0m in \u001b[0;36m_open\u001b[0;34m(self, req, data)\u001b[0m\n\u001b[1;32m    543\u001b[0m         result = self._call_chain(self.handle_open, protocol, protocol +\n\u001b[0;32m--> 544\u001b[0;31m                                   '_open', req)\n\u001b[0m\u001b[1;32m    545\u001b[0m         \u001b[0;32mif\u001b[0m \u001b[0mresult\u001b[0m\u001b[0;34m:\u001b[0m\u001b[0;34m\u001b[0m\u001b[0;34m\u001b[0m\u001b[0m\n",
      "\u001b[0;32m~/conda/envs/python/lib/python3.6/urllib/request.py\u001b[0m in \u001b[0;36m_call_chain\u001b[0;34m(self, chain, kind, meth_name, *args)\u001b[0m\n\u001b[1;32m    503\u001b[0m             \u001b[0mfunc\u001b[0m \u001b[0;34m=\u001b[0m \u001b[0mgetattr\u001b[0m\u001b[0;34m(\u001b[0m\u001b[0mhandler\u001b[0m\u001b[0;34m,\u001b[0m \u001b[0mmeth_name\u001b[0m\u001b[0;34m)\u001b[0m\u001b[0;34m\u001b[0m\u001b[0;34m\u001b[0m\u001b[0m\n\u001b[0;32m--> 504\u001b[0;31m             \u001b[0mresult\u001b[0m \u001b[0;34m=\u001b[0m \u001b[0mfunc\u001b[0m\u001b[0;34m(\u001b[0m\u001b[0;34m*\u001b[0m\u001b[0margs\u001b[0m\u001b[0;34m)\u001b[0m\u001b[0;34m\u001b[0m\u001b[0;34m\u001b[0m\u001b[0m\n\u001b[0m\u001b[1;32m    505\u001b[0m             \u001b[0;32mif\u001b[0m \u001b[0mresult\u001b[0m \u001b[0;32mis\u001b[0m \u001b[0;32mnot\u001b[0m \u001b[0;32mNone\u001b[0m\u001b[0;34m:\u001b[0m\u001b[0;34m\u001b[0m\u001b[0;34m\u001b[0m\u001b[0m\n",
      "\u001b[0;32m~/conda/envs/python/lib/python3.6/urllib/request.py\u001b[0m in \u001b[0;36mhttps_open\u001b[0;34m(self, req)\u001b[0m\n\u001b[1;32m   1360\u001b[0m             return self.do_open(http.client.HTTPSConnection, req,\n\u001b[0;32m-> 1361\u001b[0;31m                 context=self._context, check_hostname=self._check_hostname)\n\u001b[0m\u001b[1;32m   1362\u001b[0m \u001b[0;34m\u001b[0m\u001b[0m\n",
      "\u001b[0;32m~/conda/envs/python/lib/python3.6/urllib/request.py\u001b[0m in \u001b[0;36mdo_open\u001b[0;34m(self, http_class, req, **http_conn_args)\u001b[0m\n\u001b[1;32m   1319\u001b[0m             \u001b[0;32mexcept\u001b[0m \u001b[0mOSError\u001b[0m \u001b[0;32mas\u001b[0m \u001b[0merr\u001b[0m\u001b[0;34m:\u001b[0m \u001b[0;31m# timeout error\u001b[0m\u001b[0;34m\u001b[0m\u001b[0;34m\u001b[0m\u001b[0m\n\u001b[0;32m-> 1320\u001b[0;31m                 \u001b[0;32mraise\u001b[0m \u001b[0mURLError\u001b[0m\u001b[0;34m(\u001b[0m\u001b[0merr\u001b[0m\u001b[0;34m)\u001b[0m\u001b[0;34m\u001b[0m\u001b[0;34m\u001b[0m\u001b[0m\n\u001b[0m\u001b[1;32m   1321\u001b[0m             \u001b[0mr\u001b[0m \u001b[0;34m=\u001b[0m \u001b[0mh\u001b[0m\u001b[0;34m.\u001b[0m\u001b[0mgetresponse\u001b[0m\u001b[0;34m(\u001b[0m\u001b[0;34m)\u001b[0m\u001b[0;34m\u001b[0m\u001b[0;34m\u001b[0m\u001b[0m\n",
      "\u001b[0;31mURLError\u001b[0m: <urlopen error [Errno 99] Cannot assign requested address>",
      "\nDuring handling of the above exception, another exception occurred:\n",
      "\u001b[0;31mGeocoderServiceError\u001b[0m                      Traceback (most recent call last)",
      "\u001b[0;32m<ipython-input-44-86ccba3b766b>\u001b[0m in \u001b[0;36m<module>\u001b[0;34m\u001b[0m\n\u001b[1;32m      2\u001b[0m \u001b[0;34m\u001b[0m\u001b[0m\n\u001b[1;32m      3\u001b[0m \u001b[0mgeolocator\u001b[0m \u001b[0;34m=\u001b[0m \u001b[0mNominatim\u001b[0m\u001b[0;34m(\u001b[0m\u001b[0muser_agent\u001b[0m\u001b[0;34m=\u001b[0m\u001b[0;34m\"to_explorer\"\u001b[0m\u001b[0;34m)\u001b[0m\u001b[0;34m\u001b[0m\u001b[0;34m\u001b[0m\u001b[0m\n\u001b[0;32m----> 4\u001b[0;31m \u001b[0mlocation\u001b[0m \u001b[0;34m=\u001b[0m \u001b[0mgeolocator\u001b[0m\u001b[0;34m.\u001b[0m\u001b[0mgeocode\u001b[0m\u001b[0;34m(\u001b[0m\u001b[0maddress\u001b[0m\u001b[0;34m)\u001b[0m\u001b[0;34m\u001b[0m\u001b[0;34m\u001b[0m\u001b[0m\n\u001b[0m\u001b[1;32m      5\u001b[0m \u001b[0mlatitude\u001b[0m \u001b[0;34m=\u001b[0m \u001b[0mlocation\u001b[0m\u001b[0;34m.\u001b[0m\u001b[0mlatitude\u001b[0m\u001b[0;34m\u001b[0m\u001b[0;34m\u001b[0m\u001b[0m\n\u001b[1;32m      6\u001b[0m \u001b[0mlongitude\u001b[0m \u001b[0;34m=\u001b[0m \u001b[0mlocation\u001b[0m\u001b[0;34m.\u001b[0m\u001b[0mlongitude\u001b[0m\u001b[0;34m\u001b[0m\u001b[0;34m\u001b[0m\u001b[0m\n",
      "\u001b[0;32m~/conda/envs/python/lib/python3.6/site-packages/geopy/geocoders/osm.py\u001b[0m in \u001b[0;36mgeocode\u001b[0;34m(self, query, exactly_one, timeout, limit, addressdetails, language, geometry, extratags, country_codes, viewbox, bounded)\u001b[0m\n\u001b[1;32m    385\u001b[0m \u001b[0;34m\u001b[0m\u001b[0m\n\u001b[1;32m    386\u001b[0m         return self._parse_json(\n\u001b[0;32m--> 387\u001b[0;31m             \u001b[0mself\u001b[0m\u001b[0;34m.\u001b[0m\u001b[0m_call_geocoder\u001b[0m\u001b[0;34m(\u001b[0m\u001b[0murl\u001b[0m\u001b[0;34m,\u001b[0m \u001b[0mtimeout\u001b[0m\u001b[0;34m=\u001b[0m\u001b[0mtimeout\u001b[0m\u001b[0;34m)\u001b[0m\u001b[0;34m,\u001b[0m \u001b[0mexactly_one\u001b[0m\u001b[0;34m\u001b[0m\u001b[0;34m\u001b[0m\u001b[0m\n\u001b[0m\u001b[1;32m    388\u001b[0m         )\n\u001b[1;32m    389\u001b[0m \u001b[0;34m\u001b[0m\u001b[0m\n",
      "\u001b[0;32m~/conda/envs/python/lib/python3.6/site-packages/geopy/geocoders/base.py\u001b[0m in \u001b[0;36m_call_geocoder\u001b[0;34m(self, url, timeout, raw, requester, deserializer, **kwargs)\u001b[0m\n\u001b[1;32m    384\u001b[0m                 \u001b[0;32mif\u001b[0m \u001b[0;34m\"timed out\"\u001b[0m \u001b[0;32min\u001b[0m \u001b[0mmessage\u001b[0m\u001b[0;34m:\u001b[0m\u001b[0;34m\u001b[0m\u001b[0;34m\u001b[0m\u001b[0m\n\u001b[1;32m    385\u001b[0m                     \u001b[0;32mraise\u001b[0m \u001b[0mGeocoderTimedOut\u001b[0m\u001b[0;34m(\u001b[0m\u001b[0;34m'Service timed out'\u001b[0m\u001b[0;34m)\u001b[0m\u001b[0;34m\u001b[0m\u001b[0;34m\u001b[0m\u001b[0m\n\u001b[0;32m--> 386\u001b[0;31m             \u001b[0;32mraise\u001b[0m \u001b[0mGeocoderServiceError\u001b[0m\u001b[0;34m(\u001b[0m\u001b[0mmessage\u001b[0m\u001b[0;34m)\u001b[0m\u001b[0;34m\u001b[0m\u001b[0;34m\u001b[0m\u001b[0m\n\u001b[0m\u001b[1;32m    387\u001b[0m \u001b[0;34m\u001b[0m\u001b[0m\n\u001b[1;32m    388\u001b[0m         \u001b[0;32mif\u001b[0m \u001b[0mhasattr\u001b[0m\u001b[0;34m(\u001b[0m\u001b[0mpage\u001b[0m\u001b[0;34m,\u001b[0m \u001b[0;34m'getcode'\u001b[0m\u001b[0;34m)\u001b[0m\u001b[0;34m:\u001b[0m\u001b[0;34m\u001b[0m\u001b[0;34m\u001b[0m\u001b[0m\n",
      "\u001b[0;31mGeocoderServiceError\u001b[0m: [Errno 99] Cannot assign requested address"
     ]
    }
   ],
   "source": [
    "address = 'Milan, Italy'\n",
    "\n",
    "geolocator = Nominatim(user_agent=\"to_explorer\")\n",
    "location = geolocator.geocode(address)\n",
    "latitude = location.latitude\n",
    "longitude = location.longitude\n",
    "print('The geograpical coordinate of Milano are {}, {}.'.format(latitude, longitude))"
   ]
  },
  {
   "cell_type": "markdown",
   "metadata": {},
   "source": [
    "__Create a map of Milan with neighborhoods superimposed on top.__"
   ]
  },
  {
   "cell_type": "code",
   "execution_count": null,
   "metadata": {},
   "outputs": [],
   "source": [
    "# create map of Milano using latitude and longitude values\n",
    "map_milano= folium.Map(location=[latitude, longitude], zoom_start=10)\n",
    "\n",
    "# add markers to map\n",
    "for lat, lng, borough, neighborhood in zip(neighborhoods['Latitude'], neighborhoods['Longitude'], neighborhoods['Borough'], neighborhoods['Neighborhood']):\n",
    "    label = '{}, {}'.format(neighborhood, borough)\n",
    "    label = folium.Popup(label, parse_html=True)\n",
    "    folium.CircleMarker(\n",
    "        [lat, lng],\n",
    "        radius=5,\n",
    "        popup=label,\n",
    "        color='blue',\n",
    "        fill=True,\n",
    "        fill_color='#3186cc',\n",
    "        fill_opacity=0.7,\n",
    "        parse_html=False).add_to(map_milano)  \n",
    "    \n",
    "map_milano"
   ]
  },
  {
   "cell_type": "markdown",
   "metadata": {},
   "source": [
    "__Defining Foursquare Credentials and Version__"
   ]
  },
  {
   "cell_type": "code",
   "execution_count": null,
   "metadata": {},
   "outputs": [],
   "source": [
    "CLIENT_ID = 'FFABTQD45IG2BFTA1MKTBBFB2PAYVFBDOL2TQ2VVJDXHOUTC' #  Foursquare ID\n",
    "CLIENT_SECRET = '1JCR2KTRTT41H2NQDN13C4BGDGVAFZGQOGC0Q3UVMV02YIV1' # Foursquare Secret\n",
    "VERSION = '20180605' # Foursquare API version\n",
    "\n",
    "print('Your credentails:')\n",
    "print('CLIENT_ID: ' + CLIENT_ID)\n",
    "print('CLIENT_SECRET:' + CLIENT_SECRET)"
   ]
  },
  {
   "cell_type": "markdown",
   "metadata": {},
   "source": [
    "__We are interested in looking for a hotel in the Area/Neighborhood Milano of the Borough Milano with postal code 20121 as the company is also located there.__\n",
    "__From the above data, we know the location of the Neighborhood Milano in the Borough Milano__"
   ]
  },
  {
   "cell_type": "code",
   "execution_count": null,
   "metadata": {},
   "outputs": [],
   "source": [
    "neighborhoods.loc[58,'Neighborhood']"
   ]
  },
  {
   "cell_type": "code",
   "execution_count": null,
   "metadata": {},
   "outputs": [],
   "source": [
    "neighborhood_latitude = neighborhoods.loc[58, 'Latitude'] # neighborhood latitude value\n",
    "neighborhood_longitude = neighborhoods.loc[58, 'Longitude'] # neighborhood longitude value\n",
    "\n",
    "neighborhood_name = neighborhoods.loc[58, 'Neighborhood'] # neighborhood name\n",
    "\n",
    "print('Latitude and longitude values of {} are {}, {}.'.format(neighborhood_name, \n",
    "                                                               neighborhood_latitude, \n",
    "                                                               neighborhood_longitude))"
   ]
  },
  {
   "cell_type": "markdown",
   "metadata": {},
   "source": [
    "__Foursquare__\n",
    "\n",
    "Let's use Foursquare API to get info on hotels,event space and nearby venues in the Milan area of the city ad also info on\n",
    "shopping malls, fashion stores, restaurants spread over larger radius in the city of Milan,Italy.\n",
    "\n",
    "We will specifying search queries for hotels,nearby venues in the required area and specific search queries for shopping malls, fashion stores, restaurants to obain results for each of the above. \n",
    "\n",
    "We will also be using Foursquare to obtain venues data for the city of Como."
   ]
  },
  {
   "cell_type": "markdown",
   "metadata": {},
   "source": [
    "__We will obtain hotel data within a radius of 500 meters from the Milan Area and then obtain data for the__\n",
    "__required postal code__"
   ]
  },
  {
   "cell_type": "code",
   "execution_count": null,
   "metadata": {},
   "outputs": [],
   "source": [
    "#Now, let's input a search query for top 100 hotels that are in Milan area within a radius of 500 meters.\n",
    "search_query = 'Hotel'\n",
    "LIMIT=100\n",
    "radius = 500\n",
    "\n",
    "# Define the corresponding URL\n",
    "url = 'https://api.foursquare.com/v2/venues/search?client_id={}&client_secret={}&ll={},{}&v={}&query={}&radius={}&limit={}'\\\n",
    ".format(CLIENT_ID, CLIENT_SECRET, neighborhood_latitude, neighborhood_longitude, VERSION, search_query, radius, LIMIT)\n",
    "url"
   ]
  },
  {
   "cell_type": "code",
   "execution_count": null,
   "metadata": {},
   "outputs": [],
   "source": [
    "# Send the GET Request and examine the results\n",
    "results = requests.get(url).json()\n",
    "#results"
   ]
  },
  {
   "cell_type": "code",
   "execution_count": null,
   "metadata": {},
   "outputs": [],
   "source": [
    "# assign relevant part of JSON to venues\n",
    "venues = results['response']['venues']\n",
    "\n",
    "# tranform venues into a dataframe\n",
    "dataframe = json_normalize(venues)\n",
    "dataframe.head()"
   ]
  },
  {
   "cell_type": "markdown",
   "metadata": {},
   "source": [
    "__Cleaning hotel dataframe__"
   ]
  },
  {
   "cell_type": "code",
   "execution_count": null,
   "metadata": {},
   "outputs": [],
   "source": [
    "# keep only columns that include venue name, and anything that is associated with location\n",
    "clean_columns = ['name', 'categories'] + [col for col in dataframe.columns if col.startswith('location.')]+ ['id']\n",
    "clean_dataframe = dataframe.loc[:,clean_columns]\n",
    "\n",
    "# function that extracts the category of the venue\n",
    "def get_category_type(row):\n",
    "    try:\n",
    "        categories_list = row['categories']\n",
    "    except:\n",
    "        categories_list = row['venue.categories']\n",
    "        \n",
    "    if len(categories_list) == 0:\n",
    "        return None\n",
    "    else:\n",
    "        return categories_list[0]['name']\n",
    "\n",
    "# filter the category for each row\n",
    "clean_dataframe['categories'] = clean_dataframe.apply(get_category_type, axis=1)\n",
    "\n",
    "# clean column names by keeping only last term\n",
    "clean_dataframe.columns = [column.split('.')[-1] for column in clean_dataframe.columns]\n",
    "\n",
    "clean_dataframe.head(5)"
   ]
  },
  {
   "cell_type": "code",
   "execution_count": null,
   "metadata": {},
   "outputs": [],
   "source": [
    "clean_dataframe.shape"
   ]
  },
  {
   "cell_type": "code",
   "execution_count": null,
   "metadata": {},
   "outputs": [],
   "source": [
    "# delete unnecessary columns\n",
    "clean_dataframe2= clean_dataframe.drop(['labeledLatLngs','distance','cc','neighborhood', 'state', 'country', 'crossStreet', 'formattedAddress', 'id'], axis=1)\n",
    "clean_dataframe2.head()"
   ]
  },
  {
   "cell_type": "code",
   "execution_count": null,
   "metadata": {},
   "outputs": [],
   "source": [
    "\n",
    "# delete rows with none values\n",
    "clean_dataframe3 = clean_dataframe2.dropna(axis=0, how='any', thresh=None, subset=None, inplace=False)\n",
    "clean_dataframe3.head()"
   ]
  },
  {
   "cell_type": "code",
   "execution_count": null,
   "metadata": {},
   "outputs": [],
   "source": [
    "# delete rows which its category is not Hotel or Event Space\n",
    "array= ['Hotel', 'Event Space']\n",
    "hotel_dataframe= clean_dataframe3.loc[clean_dataframe3['categories'].isin(array)]\n",
    "hotel_dataframe.head()"
   ]
  },
  {
   "cell_type": "code",
   "execution_count": null,
   "metadata": {},
   "outputs": [],
   "source": [
    "# delete rows which has duplicate hotel's name\n",
    "df_hotels = hotel_dataframe.drop_duplicates(subset='name', keep=\"first\")\n",
    "df_hotels.head()"
   ]
  },
  {
   "cell_type": "code",
   "execution_count": null,
   "metadata": {},
   "outputs": [],
   "source": [
    "#Checking all the hotels within a radius of 500 meters\n",
    "df_hotels.shape"
   ]
  },
  {
   "cell_type": "code",
   "execution_count": null,
   "metadata": {},
   "outputs": [],
   "source": [
    "# choose the hotels and event space with the postal code 20121 in Milano \n",
    "df_hotel = df_hotels[df_hotels.postalCode == '20121']\n",
    "df_hotel.head()"
   ]
  },
  {
   "cell_type": "code",
   "execution_count": null,
   "metadata": {},
   "outputs": [],
   "source": [
    "df_hotel.reset_index(inplace = True, drop = True) \n",
    "df_hotel"
   ]
  },
  {
   "cell_type": "code",
   "execution_count": null,
   "metadata": {},
   "outputs": [],
   "source": [
    "##Checking the no of hotels\n",
    "df_hotel.shape"
   ]
  },
  {
   "cell_type": "markdown",
   "metadata": {},
   "source": [
    "__From the above data,we have 9 hotels and 1 event space in the Milan Area with postal code 20121.__\n",
    "__The company can choose the hotels and event space from the above data.__"
   ]
  },
  {
   "cell_type": "markdown",
   "metadata": {},
   "source": [
    "#### Now, let's input a query to find the top 100 venues that are in Milan Area within a radius of 500 meters."
   ]
  },
  {
   "cell_type": "code",
   "execution_count": null,
   "metadata": {},
   "outputs": [],
   "source": [
    "# type your answer here\n",
    "LIMIT = 100\n",
    "radius = 500\n",
    "url = 'https://api.foursquare.com/v2/venues/explore?&client_id={}&client_secret={}&v={}&ll={},{}&radius={}&limit={}'.format(\n",
    "    CLIENT_ID, \n",
    "    CLIENT_SECRET, \n",
    "    VERSION, \n",
    "    neighborhood_latitude, \n",
    "    neighborhood_longitude, \n",
    "    radius, \n",
    "    LIMIT)\n",
    "url"
   ]
  },
  {
   "cell_type": "code",
   "execution_count": null,
   "metadata": {},
   "outputs": [],
   "source": [
    "results1 = requests.get(url).json()\n",
    "#results1"
   ]
  },
  {
   "cell_type": "code",
   "execution_count": null,
   "metadata": {},
   "outputs": [],
   "source": [
    "venues = results1['response']['groups'][0]['items']\n",
    "    \n",
    "nearby_venues1 = json_normalize(venues) # flatten JSON\n",
    "nearby_venues1.head()"
   ]
  },
  {
   "cell_type": "code",
   "execution_count": null,
   "metadata": {},
   "outputs": [],
   "source": [
    "# function that extracts the category of the venue\n",
    "def get_category_type(row):\n",
    "    try:\n",
    "        categories_list = row['categories']\n",
    "    except:\n",
    "        categories_list = row['venue.categories']\n",
    "        \n",
    "    if len(categories_list) == 0:\n",
    "        return None\n",
    "    else:\n",
    "        return categories_list[0]['name']"
   ]
  },
  {
   "cell_type": "code",
   "execution_count": null,
   "metadata": {},
   "outputs": [],
   "source": [
    "# filter columns\n",
    "filtered_columns = ['venue.name', 'venue.categories', 'venue.location.lat', 'venue.location.lng','venue.location.formattedAddress']\n",
    "nearby_venues2 =nearby_venues1.loc[:, filtered_columns]\n",
    "\n",
    "# filter the category for each row\n",
    "nearby_venues2['venue.categories'] = nearby_venues2.apply(get_category_type, axis=1)\n",
    "\n",
    "# clean columns\n",
    "nearby_venues2.columns = [col.split(\".\")[-1] for col in nearby_venues2.columns]\n",
    "nearby_venues2.reset_index(inplace=True,drop=True)\n",
    "nearby_venues2.head()"
   ]
  },
  {
   "cell_type": "code",
   "execution_count": null,
   "metadata": {},
   "outputs": [],
   "source": [
    "# Choose the venues other than Hotel\n",
    "nearby_venue3 = nearby_venues2[nearby_venues2.categories != 'Hotel']\n",
    "nearby_venue3.head()"
   ]
  },
  {
   "cell_type": "code",
   "execution_count": null,
   "metadata": {},
   "outputs": [],
   "source": [
    "# delete rows with none values\n",
    "nearby_venue3 = nearby_venue3.dropna(axis=0, how='any', thresh=None, subset=None, inplace=False)"
   ]
  },
  {
   "cell_type": "code",
   "execution_count": null,
   "metadata": {},
   "outputs": [],
   "source": [
    "nearby_venue3.reset_index(inplace = True, drop = True) \n",
    "nearby_venue3.head()"
   ]
  },
  {
   "cell_type": "code",
   "execution_count": null,
   "metadata": {},
   "outputs": [],
   "source": [
    "nearby_venue3.shape"
   ]
  },
  {
   "cell_type": "markdown",
   "metadata": {},
   "source": [
    "__Data analysis of the above is carried out in the analaysis section__"
   ]
  },
  {
   "cell_type": "markdown",
   "metadata": {},
   "source": [
    "__We can run some specific search queries for restaurants, fashion stores and shopping malls  in also areas other than Milan Area of the city to give the company a few more options of the same.This is not related to any specific neighborhood in the city and uses location data(latitude and longitude values)of the Milan City.__\n"
   ]
  },
  {
   "cell_type": "markdown",
   "metadata": {},
   "source": [
    "## Search for restaurants"
   ]
  },
  {
   "cell_type": "code",
   "execution_count": null,
   "metadata": {},
   "outputs": [],
   "source": [
    "# search for Restaurants within radius of 10000 meters\n",
    "search_query = 'Restaurant'\n",
    "radius = 10000\n",
    "\n",
    "# Define the corresponding URL\n",
    "url = 'https://api.foursquare.com/v2/venues/search?client_id={}&client_secret={}&ll={},{}&v={}&query={}&radius={}&limit={}'.format(CLIENT_ID, CLIENT_SECRET, latitude, longitude, VERSION, search_query, radius, LIMIT)\n",
    "url"
   ]
  },
  {
   "cell_type": "code",
   "execution_count": null,
   "metadata": {},
   "outputs": [],
   "source": [
    "\n",
    "# Send the GET Request and examine the results\n",
    "Rresults = requests.get(url).json()"
   ]
  },
  {
   "cell_type": "code",
   "execution_count": null,
   "metadata": {},
   "outputs": [],
   "source": [
    "\n",
    "# assign relevant part of JSON to venues\n",
    "venues = Rresults['response']['venues']\n",
    "\n",
    "# tranform venues into a dataframe\n",
    "Restaurant_dataframe = json_normalize(venues)\n",
    "Restaurant_dataframe.head()"
   ]
  },
  {
   "cell_type": "code",
   "execution_count": null,
   "metadata": {},
   "outputs": [],
   "source": [
    "# keep only columns that include venue name, and anything that is associated with location\n",
    "Restaurant_clean_columns = ['name', 'categories'] + [col for col in Restaurant_dataframe.columns if col.startswith('location.')]+ ['id']\n",
    "clean_Restaurant_dataframe = Restaurant_dataframe.loc[:,Restaurant_clean_columns]\n",
    "\n",
    "# function that extracts the category of the venue\n",
    "def get_category_type(row):\n",
    "    try:\n",
    "        categories_list3 = row['categories']\n",
    "    except:\n",
    "        categories_list3 = row['venue.categories']\n",
    "        \n",
    "    if len(categories_list3) == 0:\n",
    "        return None\n",
    "    else:\n",
    "        return categories_list3[0]['name']\n",
    "\n",
    "# filter the category for each row\n",
    "clean_Restaurant_dataframe['categories'] = clean_Restaurant_dataframe.apply(get_category_type, axis=1)\n",
    "\n",
    "# clean column names by keeping only last term\n",
    "clean_Restaurant_dataframe.columns = [column.split('.')[-1] for column in clean_Restaurant_dataframe.columns]\n",
    "\n",
    "clean_Restaurant_dataframe.head()"
   ]
  },
  {
   "cell_type": "code",
   "execution_count": null,
   "metadata": {},
   "outputs": [],
   "source": [
    "\n",
    "# delete unnecessary columns\n",
    "clean_Restaurant_dataframe2= clean_Restaurant_dataframe.drop(['labeledLatLngs','distance','cc','neighborhood', 'state', 'country', 'crossStreet', 'formattedAddress', 'id'], axis=1)\n",
    "clean_Restaurant_dataframe2.head()"
   ]
  },
  {
   "cell_type": "code",
   "execution_count": null,
   "metadata": {},
   "outputs": [],
   "source": [
    "# delete rows with none values\n",
    "df_Restaurant = clean_Restaurant_dataframe2.dropna(axis=0, how='any', thresh=None, subset=None, inplace=False)\n",
    "df_Restaurant.head(5)"
   ]
  },
  {
   "cell_type": "code",
   "execution_count": null,
   "metadata": {},
   "outputs": [],
   "source": [
    "df_Restaurant.reset_index(inplace = True, drop = True) \n",
    "df_Restaurant.head()"
   ]
  },
  {
   "cell_type": "code",
   "execution_count": null,
   "metadata": {},
   "outputs": [],
   "source": [
    "#Checking the no of restaurants\n",
    "df_Restaurant.shape"
   ]
  },
  {
   "cell_type": "markdown",
   "metadata": {},
   "source": [
    "__The company can also choose restaurants from the above 31 restaurants with different categories of food in also others areas of the City for team dinner of executives.__"
   ]
  },
  {
   "cell_type": "markdown",
   "metadata": {},
   "source": [
    "__Milan is the city famous for fashion. Lets run a query to obtain results of fashion stores also in others areas.__\n",
    "__of the City.__"
   ]
  },
  {
   "cell_type": "code",
   "execution_count": null,
   "metadata": {},
   "outputs": [],
   "source": [
    "# search for fashion stores within radius of 20000 meters.\n",
    "search_query = 'Fashion Store'\n",
    "radius = 20000\n",
    "LIMIT=200\n",
    "\n",
    "# Define the corresponding URL\n",
    "url = 'https://api.foursquare.com/v2/venues/search?client_id={}&client_secret={}&ll={},{}&v={}&query={}&radius={}&limit={}'.format(CLIENT_ID, CLIENT_SECRET, latitude, longitude, VERSION, search_query, radius, LIMIT)\n",
    "url"
   ]
  },
  {
   "cell_type": "code",
   "execution_count": null,
   "metadata": {},
   "outputs": [],
   "source": [
    "\n",
    "# Send the GET Request and examine the results\n",
    "Fresults = requests.get(url).json()"
   ]
  },
  {
   "cell_type": "code",
   "execution_count": null,
   "metadata": {},
   "outputs": [],
   "source": [
    "# assign relevant part of JSON to venues\n",
    "venues = Fresults['response']['venues']\n",
    "\n",
    "# tranform venues into a dataframe\n",
    "Fashion_dataframe = json_normalize(venues)\n",
    "Fashion_dataframe.head()"
   ]
  },
  {
   "cell_type": "code",
   "execution_count": null,
   "metadata": {},
   "outputs": [],
   "source": [
    "# keep only columns that include venue name, and anything that is associated with location\n",
    "Fashion_clean_columns = ['name', 'categories'] + [col for col in Fashion_dataframe.columns if col.startswith('location.')]+ ['id']\n",
    "clean_fashion_dataframe = Fashion_dataframe.loc[:,Fashion_clean_columns]\n",
    "\n",
    "# function that extracts the category of the venue\n",
    "def get_category_type(row):\n",
    "    try:\n",
    "        categories_list3 = row['categories']\n",
    "    except:\n",
    "        categories_list3 = row['venue.categories']\n",
    "        \n",
    "    if len(categories_list3) == 0:\n",
    "        return None\n",
    "    else:\n",
    "        return categories_list3[0]['name']\n",
    "\n",
    "# filter the category for each row\n",
    "clean_fashion_dataframe['categories'] = clean_fashion_dataframe.apply(get_category_type, axis=1)\n",
    "\n",
    "# clean column names by keeping only last term\n",
    "clean_fashion_dataframe.columns = [column.split('.')[-1] for column in clean_fashion_dataframe.columns]\n",
    "\n",
    "clean_fashion_dataframe.head()"
   ]
  },
  {
   "cell_type": "code",
   "execution_count": null,
   "metadata": {},
   "outputs": [],
   "source": [
    "clean_fashion_dataframe.shape"
   ]
  },
  {
   "cell_type": "code",
   "execution_count": null,
   "metadata": {},
   "outputs": [],
   "source": [
    "# delete unnecessary columns\n",
    "clean_fashion_dataframe= clean_fashion_dataframe.drop(['labeledLatLngs','distance','cc', 'state', 'country', 'crossStreet', 'formattedAddress', 'id','neighborhood'], axis=1)\n",
    "clean_fashion_dataframe.head()"
   ]
  },
  {
   "cell_type": "code",
   "execution_count": null,
   "metadata": {},
   "outputs": [],
   "source": [
    "# delete rows with none values\n",
    "df_fashion = clean_fashion_dataframe.dropna(axis=0, how='any', thresh=None, subset=None, inplace=False)\n",
    "df_fashion.head()"
   ]
  },
  {
   "cell_type": "code",
   "execution_count": null,
   "metadata": {},
   "outputs": [],
   "source": [
    "df_fashion.reset_index(inplace = True, drop = True) \n",
    "df_fashion.head(5)"
   ]
  },
  {
   "cell_type": "code",
   "execution_count": null,
   "metadata": {},
   "outputs": [],
   "source": [
    "df_fashion.shape"
   ]
  },
  {
   "cell_type": "markdown",
   "metadata": {},
   "source": [
    "__The company can also suggest the above 34 fashion stores for shopping to the executives in the city.__"
   ]
  },
  {
   "cell_type": "markdown",
   "metadata": {},
   "source": [
    "__Lets run a query to obtain results of the shopping mall also in others areas__"
   ]
  },
  {
   "cell_type": "code",
   "execution_count": null,
   "metadata": {},
   "outputs": [],
   "source": [
    "# search for Shopping Malls within radius of 10000 meters\n",
    "search_query = 'Shopping mall'\n",
    "radius = 10000\n",
    "\n",
    "# Define the corresponding URL\n",
    "url = 'https://api.foursquare.com/v2/venues/search?client_id={}&client_secret={}&ll={},{}&v={}&query={}&radius={}&limit={}'.format(CLIENT_ID, CLIENT_SECRET, latitude, longitude, VERSION, search_query, radius, LIMIT)\n",
    "url"
   ]
  },
  {
   "cell_type": "code",
   "execution_count": null,
   "metadata": {},
   "outputs": [],
   "source": [
    "# Send the GET Request and examine the results\n",
    "sresults = requests.get(url).json()"
   ]
  },
  {
   "cell_type": "code",
   "execution_count": null,
   "metadata": {},
   "outputs": [],
   "source": [
    "# assign relevant part of JSON to venues\n",
    "venues = sresults['response']['venues']\n",
    "\n",
    "# tranform venues into a dataframe\n",
    "S_dataframe = json_normalize(venues)\n",
    "S_dataframe.head()"
   ]
  },
  {
   "cell_type": "code",
   "execution_count": null,
   "metadata": {},
   "outputs": [],
   "source": [
    "# keep only columns that include venue name, and anything that is associated with location\n",
    "shopping_clean_columns = ['name', 'categories'] + [col for col in S_dataframe.columns if col.startswith('location.')]+ ['id']\n",
    "clean_shopping_dataframe = S_dataframe.loc[:,shopping_clean_columns]\n",
    "\n",
    "# function that extracts the category of the venue\n",
    "def get_category_type(row):\n",
    "    try:\n",
    "        categories_list4 = row['categories']\n",
    "    except:\n",
    "        categories_list4 = row['venue.categories']\n",
    "        \n",
    "    if len(categories_list4) == 0:\n",
    "        return None\n",
    "    else:\n",
    "        return categories_list4[0]['name']\n",
    "\n",
    "# filter the category for each row\n",
    "clean_shopping_dataframe['categories'] = clean_shopping_dataframe.apply(get_category_type, axis=1)\n",
    "\n",
    "# clean column names by keeping only last term\n",
    "clean_shopping_dataframe.columns = [column.split('.')[-1] for column in clean_shopping_dataframe.columns]\n",
    "\n",
    "clean_shopping_dataframe.head()"
   ]
  },
  {
   "cell_type": "code",
   "execution_count": null,
   "metadata": {},
   "outputs": [],
   "source": [
    "# delete unnecessary columns\n",
    "clean_shopping_dataframe= clean_shopping_dataframe.drop(['cc', 'state', 'country', 'crossStreet', 'distance', 'formattedAddress',\\\n",
    "                                        'labeledLatLngs', 'id','neighborhood'], axis=1)\n",
    "clean_shopping_dataframe.head()"
   ]
  },
  {
   "cell_type": "code",
   "execution_count": null,
   "metadata": {},
   "outputs": [],
   "source": [
    "# delete rows with none values\n",
    "df_shopping = clean_shopping_dataframe.dropna(axis=0, how='any', thresh=None, subset=None, inplace=False)\n",
    "df_shopping.head(5)"
   ]
  },
  {
   "cell_type": "code",
   "execution_count": null,
   "metadata": {},
   "outputs": [],
   "source": [
    "df_shopping.reset_index(inplace = True, drop = True) \n",
    "df_shopping.head()"
   ]
  },
  {
   "cell_type": "code",
   "execution_count": null,
   "metadata": {},
   "outputs": [],
   "source": [
    "#Checking the no of shopping malls/places\n",
    "df_shopping.shape"
   ]
  },
  {
   "cell_type": "markdown",
   "metadata": {},
   "source": [
    "__The company can also suggest or take the executives for any specific shopping to the above 18 shopping malls/places.__"
   ]
  },
  {
   "cell_type": "markdown",
   "metadata": {},
   "source": [
    "__Further, analysis is continued in the analysis section.__"
   ]
  },
  {
   "cell_type": "markdown",
   "metadata": {},
   "source": [
    "## 2. Segmenting and Clustering neighborhoods in Como"
   ]
  },
  {
   "cell_type": "code",
   "execution_count": null,
   "metadata": {},
   "outputs": [],
   "source": [
    "#Viewing the dataframe of Como city extracted and cleaned from the country data\n",
    "cneighborhoods.head()"
   ]
  },
  {
   "cell_type": "code",
   "execution_count": null,
   "metadata": {},
   "outputs": [],
   "source": [
    "#Getting co-ordinates of the city\n",
    "address = 'Como,Italy'\n",
    "\n",
    "geolocator = Nominatim(user_agent=\"to_explorer\")\n",
    "location = geolocator.geocode(address)\n",
    "latitude1 = location.latitude\n",
    "longitude1 = location.longitude\n",
    "print('The geograpical coordinate of Como are {}, {}.'.format(latitude1, longitude1))\n"
   ]
  },
  {
   "cell_type": "code",
   "execution_count": null,
   "metadata": {},
   "outputs": [],
   "source": [
    "# create map of Como using latitude and longitude values\n",
    "map_Como = folium.Map(location=[latitude1, longitude1], zoom_start=10)\n",
    "\n",
    "# add markers to map\n",
    "for lat, lng, borough, neighborhood in zip(cneighborhoods['Latitude'], cneighborhoods['Longitude'], cneighborhoods['Borough'], cneighborhoods['Neighborhood']):\n",
    "    label = '{}, {}'.format(neighborhood, borough)\n",
    "    label = folium.Popup(label, parse_html=True)\n",
    "    folium.CircleMarker(\n",
    "        [lat, lng],\n",
    "        radius=5,\n",
    "        popup=label,\n",
    "        color='red',\n",
    "        fill=True,\n",
    "        fill_color='#3186cc',\n",
    "        fill_opacity=0.7,\n",
    "        parse_html=False).add_to(map_Como)  \n",
    "    \n",
    "map_Como"
   ]
  },
  {
   "cell_type": "code",
   "execution_count": null,
   "metadata": {},
   "outputs": [],
   "source": [
    "#Foursquare Credentials\n",
    "CLIENT_ID = 'FFABTQD45IG2BFTA1MKTBBFB2PAYVFBDOL2TQ2VVJDXHOUTC' #  Foursquare ID\n",
    "CLIENT_SECRET = '1JCR2KTRTT41H2NQDN13C4BGDGVAFZGQOGC0Q3UVMV02YIV1' # Foursquare Secret\n",
    "VERSION = '20180605' # Foursquare API version\n",
    "\n",
    "print('Your credentails:')\n",
    "print('CLIENT_ID: ' + CLIENT_ID)\n",
    "print('CLIENT_SECRET:' + CLIENT_SECRET)"
   ]
  },
  {
   "cell_type": "code",
   "execution_count": null,
   "metadata": {},
   "outputs": [],
   "source": [
    "#Exploring the first neighborhood in Como\n",
    "cneighborhoods.loc[0, 'Neighborhood']"
   ]
  },
  {
   "cell_type": "code",
   "execution_count": null,
   "metadata": {},
   "outputs": [],
   "source": [
    "#Getting neighborhood latitude and longitude values\n",
    "neighborhood_latitude = cneighborhoods.loc[0, 'Latitude'] # neighborhood latitude value\n",
    "neighborhood_longitude =cneighborhoods.loc[0, 'Longitude'] # neighborhood longitude value\n",
    "\n",
    "neighborhood_name = cneighborhoods.loc[0, 'Neighborhood'] # neighborhood name\n",
    "\n",
    "print('Latitude and longitude values of {} are {}, {}.'.format(neighborhood_name, \n",
    "                                                               neighborhood_latitude, \n",
    "                                                               neighborhood_longitude))"
   ]
  },
  {
   "cell_type": "code",
   "execution_count": null,
   "metadata": {},
   "outputs": [],
   "source": [
    "# Using Foursqaure to obtain top 100 venues data of the neighborhood with radius of 500 meters\n",
    "LIMIT = 100\n",
    "radius = 500\n",
    "url = 'https://api.foursquare.com/v2/venues/explore?&client_id={}&client_secret={}&v={}&ll={},{}&radius={}&limit={}'.format(\n",
    "    CLIENT_ID, \n",
    "    CLIENT_SECRET, \n",
    "    VERSION, \n",
    "    neighborhood_latitude, \n",
    "    neighborhood_longitude, \n",
    "    radius, \n",
    "    LIMIT)\n",
    "url"
   ]
  },
  {
   "cell_type": "code",
   "execution_count": null,
   "metadata": {},
   "outputs": [],
   "source": [
    "#Send the GET request and examine the results\n",
    "results2 = requests.get(url).json()\n",
    "results2"
   ]
  },
  {
   "cell_type": "markdown",
   "metadata": {},
   "source": [
    "__Since there arent lot of results for this neighborhood. We will explore results for all neighborhoods further__"
   ]
  },
  {
   "cell_type": "code",
   "execution_count": null,
   "metadata": {},
   "outputs": [],
   "source": [
    "# function that extracts the category of the venue\n",
    "def get_category_type(row):\n",
    "    try:\n",
    "        categories_list = row['categories']\n",
    "    except:\n",
    "        categories_list = row['venue.categories']\n",
    "        \n",
    "    if len(categories_list) == 0:\n",
    "        return None\n",
    "    else:\n",
    "        return categories_list[0]['name']"
   ]
  },
  {
   "cell_type": "code",
   "execution_count": null,
   "metadata": {},
   "outputs": [],
   "source": [
    "#Let's create a function to repeat the same process to all the neighborhoods in Como\n",
    "def getNearbyVenues(names, latitudes, longitudes, radius=500):\n",
    "    \n",
    "    venues_list=[]\n",
    "    for name, lat, lng in zip(names, latitudes, longitudes):\n",
    "        print(name)\n",
    "            \n",
    "        # create the API request URL\n",
    "        url = 'https://api.foursquare.com/v2/venues/explore?&client_id={}&client_secret={}&v={}&ll={},{}&radius={}&limit={}'.format(\n",
    "            CLIENT_ID, \n",
    "            CLIENT_SECRET, \n",
    "            VERSION, \n",
    "            lat, \n",
    "            lng, \n",
    "            radius, \n",
    "            LIMIT)\n",
    "            \n",
    "        # make the GET request\n",
    "        results = requests.get(url).json()[\"response\"]['groups'][0]['items']\n",
    "        \n",
    "        # return only relevant information for each nearby venue\n",
    "        venues_list.append([(\n",
    "            name, \n",
    "            lat, \n",
    "            lng, \n",
    "            v['venue']['name'], \n",
    "            v['venue']['location']['lat'], \n",
    "            v['venue']['location']['lng'],  \n",
    "            v['venue']['categories'][0]['name']) for v in results])\n",
    "\n",
    "    nearby_venues = pd.DataFrame([item for venue_list in venues_list for item in venue_list])\n",
    "    nearby_venues.columns = ['Neighborhood', \n",
    "                  'Neighborhood Latitude', \n",
    "                  'Neighborhood Longitude', \n",
    "                  'Venue', \n",
    "                  'Venue Latitude', \n",
    "                  'Venue Longitude', \n",
    "                  'Venue Category']\n",
    "    \n",
    "    return(nearby_venues)"
   ]
  },
  {
   "cell_type": "code",
   "execution_count": null,
   "metadata": {},
   "outputs": [],
   "source": [
    "#Running the above function on each neighborhood and create a new dataframe called *como_venues*.\n",
    "\n",
    "como_venues = getNearbyVenues(names=cneighborhoods['Neighborhood'],\n",
    "                                   latitudes=cneighborhoods['Latitude'],\n",
    "                                   longitudes=cneighborhoods['Longitude']\n",
    "                                  )"
   ]
  },
  {
   "cell_type": "code",
   "execution_count": null,
   "metadata": {},
   "outputs": [],
   "source": [
    "print(como_venues.shape)\n",
    "como_venues.head()"
   ]
  },
  {
   "cell_type": "markdown",
   "metadata": {},
   "source": [
    "__Further, analysis is continued in the analysis section__"
   ]
  },
  {
   "cell_type": "markdown",
   "metadata": {},
   "source": [
    "## Methodology <a name=\"methodology\"></a>"
   ]
  },
  {
   "cell_type": "code",
   "execution_count": null,
   "metadata": {},
   "outputs": [],
   "source": [
    "\n",
    "In this project, we will focus on finding out hotels,event space and nearby venues in the Milan Area as the company is \n",
    "located there and also some more restaurants,shopping malls and fashion stores in some other areas spread over larger \n",
    "radius within the city for the corporate event(5 day program)to be organised by the Company for business executives. \n",
    "We will also find out top 10 common venues for each neighborhood of Como as the company intends to take the executives \n",
    "for a one-day tour to the city of Como.\n",
    "\n",
    "In first step we have collected the required **data: hotels,event space and nearby venues such as shopping stores,\n",
    "fashion stores,restaurants,monuments,cafes etc within a radius of 500 meters from the Milan Neighborhood in the city and \n",
    "also some other areas to have more options. We have also identified common venues for each neighborhood of Como.\n",
    "\n",
    "Second step in our analysis will be calculation and exploration of categories of venues in the Milan Area \n",
    "and also venues in the Como City - we have used **bar charts** to identify the count of each category of venue in the Milan\n",
    "Area and also venues in each neighborhood in the Como city.\n",
    "\n",
    "In third and final step we will focus on interested areas of Milan and top 10 common venues for each neighborhood as\n",
    "**clusters of locations in Como City.We will present map of all such locations for the Milan Area  and also some other areas\n",
    "of the City. We will create a separate map with clusters (using **k-means clustering**) of neighborhoods with top 10 common \n",
    "venues in Como city to identify general neighborhoods / addresses which should be of interest to the company for choosing\n",
    "venue locations."
   ]
  },
  {
   "cell_type": "markdown",
   "metadata": {},
   "source": [
    "## Analysis <a name=\"analysis\"></a>"
   ]
  },
  {
   "cell_type": "markdown",
   "metadata": {},
   "source": [
    "## 1. Lets first perform some analysis on the Milano data"
   ]
  },
  {
   "cell_type": "code",
   "execution_count": null,
   "metadata": {},
   "outputs": [],
   "source": [
    "#Venues obtained after cleaning data and deleting hotel information as we already have obtained hotel information earlier.\n",
    "print('{} venues '.format(nearby_venue3.shape[0]))"
   ]
  },
  {
   "cell_type": "markdown",
   "metadata": {},
   "source": [
    "__We can see the number of unique categories of venues in the Milan Area__"
   ]
  },
  {
   "cell_type": "code",
   "execution_count": null,
   "metadata": {},
   "outputs": [],
   "source": [
    "print(\"The number of unique categories of venues are\",len(nearby_venue3['categories'].unique()))"
   ]
  },
  {
   "cell_type": "markdown",
   "metadata": {},
   "source": [
    "__Lets see the kind of each unique category__"
   ]
  },
  {
   "cell_type": "code",
   "execution_count": null,
   "metadata": {},
   "outputs": [],
   "source": [
    "nearby_venue3['categories'].unique()"
   ]
  },
  {
   "cell_type": "code",
   "execution_count": null,
   "metadata": {},
   "outputs": [],
   "source": [
    "nearby_venue3.head()"
   ]
  },
  {
   "cell_type": "code",
   "execution_count": null,
   "metadata": {},
   "outputs": [],
   "source": [
    "nb=nearby_venue3.groupby(['categories']).size().reset_index(name='counts')\n",
    "nb.head()"
   ]
  },
  {
   "cell_type": "code",
   "execution_count": null,
   "metadata": {},
   "outputs": [],
   "source": [
    "# use the inline backend to generate the plots within the browser\n",
    "%matplotlib inline \n",
    "\n",
    "import matplotlib as mpl\n",
    "import matplotlib.pyplot as plt\n",
    "\n",
    "mpl.style.use('ggplot') #  for ggplot-like style\n",
    "\n",
    "# for latest version of Matplotlib\n",
    "print ('Matplotlib version: ', mpl.__version__) # >= 2.0.0\n",
    "\n",
    "import matplotlib\n",
    "for name, hex in matplotlib.colors.cnames.items():\n",
    "    print(name, hex)"
   ]
  },
  {
   "cell_type": "code",
   "execution_count": null,
   "metadata": {},
   "outputs": [],
   "source": [
    "nb.set_index(\"categories\",drop=True,inplace=True)"
   ]
  },
  {
   "cell_type": "markdown",
   "metadata": {},
   "source": [
    "\n",
    "__Plotting a bar graph to check the count of each category of venues in the Milan Area of the city.__"
   ]
  },
  {
   "cell_type": "code",
   "execution_count": null,
   "metadata": {},
   "outputs": [],
   "source": [
    "nb.plot(kind='bar', figsize=(10,6),color='green',legend=None)\n",
    "\n",
    "plt.xlabel('Categories of Venues in the Milan Area') # add to x-label to the plot\n",
    "plt.ylabel('Count of each category') # add y-label to the plot\n",
    "plt.title('Count of each category of venue in Milano') # add title to the plot\n",
    "\n",
    "plt.show()"
   ]
  },
  {
   "cell_type": "markdown",
   "metadata": {},
   "source": [
    "__The company can choose from 93 venues available for a short trip in the evenings in the Milan Area within a__\n",
    "__radius of 500 meters from the Milan Area.There are 43 unique categories of venues like Italian__ __Restaurants,Ice Cream Shops, Plaza, Cafe and Pizza Place with the respective highest counts. Venues also include__\n",
    "__some of the Art Galleries, Art Museums,Monuments, Cosmetics Store, Boutiques(which are also popular in the City) and__ \n",
    "__many others that can be viewed from the above graph.__"
   ]
  },
  {
   "cell_type": "code",
   "execution_count": null,
   "metadata": {},
   "outputs": [],
   "source": [
    "#This dataframe also includes hotels that fall within the radius of 500 meters from the Milan Area\n",
    "nearby_venues2.head()"
   ]
  },
  {
   "cell_type": "markdown",
   "metadata": {},
   "source": [
    "__Visualising all the venues that fall within the radius of 500 meters from the Milan Area in a folium map.__"
   ]
  },
  {
   "cell_type": "code",
   "execution_count": null,
   "metadata": {},
   "outputs": [],
   "source": [
    "# create map of Milano using latitude and longitude values\n",
    "map_milan= folium.Map(location=[latitude, longitude], zoom_start=14)\n",
    "\n",
    "# add markers to map\n",
    "for lat, lng, name, categories in zip(nearby_venues2['lat'], nearby_venues2['lng'], nearby_venues2['name'], nearby_venues2['categories']):\n",
    "    label = '{}, {}'.format(name, categories)\n",
    "    label = folium.Popup(label, parse_html=True)\n",
    "    folium.CircleMarker(\n",
    "        [lat, lng],\n",
    "        radius=5,\n",
    "        popup=label,\n",
    "        color='orange',\n",
    "        fill=True,\n",
    "        fill_color='#3186cc',\n",
    "        fill_opacity=0.7,\n",
    "        parse_html=False).add_to(map_milan)  \n",
    "    \n",
    "map_milan"
   ]
  },
  {
   "cell_type": "markdown",
   "metadata": {},
   "source": [
    "__Since, the venues are very close to each other they can be easily visited in the Milan Area.__"
   ]
  },
  {
   "cell_type": "markdown",
   "metadata": {},
   "source": [
    "__Lets merge the data of hotels(all hotels within 500 meters radius of the area) with restaurants,shopping malls and fashion stores obtained using specific search__\n",
    "__queries in other areas of the Milan City.__"
   ]
  },
  {
   "cell_type": "code",
   "execution_count": null,
   "metadata": {},
   "outputs": [],
   "source": [
    "# Merged Data\n",
    "nb_df = pd.concat([df_hotels, df_fashion,df_shopping,df_Restaurant], ignore_index=True)\n",
    "nb_df.head()\n"
   ]
  },
  {
   "cell_type": "code",
   "execution_count": null,
   "metadata": {},
   "outputs": [],
   "source": [
    "nb_df.tail(5)"
   ]
  },
  {
   "cell_type": "code",
   "execution_count": null,
   "metadata": {},
   "outputs": [],
   "source": [
    "nb_df.shape"
   ]
  },
  {
   "cell_type": "code",
   "execution_count": null,
   "metadata": {},
   "outputs": [],
   "source": [
    "#Checking the count of each category in the merged dataframe\n",
    "nb1=nb_df.groupby(['categories']).size().reset_index(name='counts')\n",
    "nb1.head()"
   ]
  },
  {
   "cell_type": "code",
   "execution_count": null,
   "metadata": {},
   "outputs": [],
   "source": [
    "#Checking the type of each category\n",
    "nb1.shape"
   ]
  },
  {
   "cell_type": "code",
   "execution_count": null,
   "metadata": {},
   "outputs": [],
   "source": [
    "nb1.plot(kind='bar', x= 'categories',figsize=(10,6),legend=None)\n",
    "\n",
    "plt.xlabel('Categories of Venues in city of Milano spread over larger radius') # add to x-label to the plot\n",
    "plt.ylabel('Count of each category') # add y-label to the plot\n",
    "plt.title('Count of each category of venue in city of Milano spread over larger radius') # add title to the plot\n",
    "\n",
    "plt.show()"
   ]
  },
  {
   "cell_type": "markdown",
   "metadata": {},
   "source": [
    "__The company can choose from the 41 categories of places in the city of Milano spread over larger radius for any__ __specific type of hotel, restaurants,shopping malls and fashion stores.From the above graph, we can see that hotels(as they are already choosen from the filtered category)__ \n",
    "__have the highest count, followed by clothing stores,mobile phone shop,restaurants,sporting goods shop and others.__"
   ]
  },
  {
   "cell_type": "code",
   "execution_count": null,
   "metadata": {},
   "outputs": [],
   "source": [
    "# Generate map to visualize merged data of hotels,shopping malls,restaurants and fashion stores.\n",
    "merged_map = folium.Map(location=[latitude, longitude], zoom_start=14)\n",
    "\n",
    "for lat, lng, name, categories, address in zip(nb_df['lat'], nb_df['lng'], \n",
    "                                           nb_df['name'], nb_df['categories'],\\\n",
    "                                               nb_df['address']):\n",
    "    label = '{}, {},{}'.format(name,categories,address)\n",
    "    label = folium.Popup(label, parse_html=True)\n",
    "    folium.CircleMarker(\n",
    "        [lat, lng],\n",
    "        radius=5,\n",
    "        popup=label,\n",
    "        color='purple',\n",
    "        fill=True,\n",
    "        fill_color='blue',\n",
    "        fill_opacity=0.7,\n",
    "        parse_html=False).add_to(merged_map)  \n",
    "    \n",
    "merged_map"
   ]
  },
  {
   "cell_type": "markdown",
   "metadata": {},
   "source": [
    "__The company can choose from any one of the above 23 hotels,31 Restaurants,34 fashion stores and 18 shopping malls/places__.\n",
    "__for any specific type of category of location spread over larger radius in the city of Milano.__"
   ]
  },
  {
   "cell_type": "markdown",
   "metadata": {},
   "source": [
    "## 2. Further, lets do some analysis on Como data."
   ]
  },
  {
   "cell_type": "markdown",
   "metadata": {},
   "source": [
    "Analyzing each neighborhood"
   ]
  },
  {
   "cell_type": "code",
   "execution_count": null,
   "metadata": {},
   "outputs": [],
   "source": [
    "#Let's check how many venues were returned for each neighborhood\n",
    "como_venues.groupby('Neighborhood').count()"
   ]
  },
  {
   "cell_type": "code",
   "execution_count": null,
   "metadata": {},
   "outputs": [],
   "source": [
    "print(\"The total no of neighborhoods in Como are\",len(como_venues['Neighborhood']))"
   ]
  },
  {
   "cell_type": "code",
   "execution_count": null,
   "metadata": {},
   "outputs": [],
   "source": [
    "cg2=como_venues.groupby('Neighborhood').count()\n",
    "cg2=cg2.reset_index()"
   ]
  },
  {
   "cell_type": "code",
   "execution_count": null,
   "metadata": {},
   "outputs": [],
   "source": [
    "cg2.shape"
   ]
  },
  {
   "cell_type": "code",
   "execution_count": null,
   "metadata": {},
   "outputs": [],
   "source": [
    "cg2.head()"
   ]
  },
  {
   "cell_type": "code",
   "execution_count": null,
   "metadata": {},
   "outputs": [],
   "source": [
    "cg3=cg2[['Neighborhood','Venue']]\n",
    "cg3.head()"
   ]
  },
  {
   "cell_type": "markdown",
   "metadata": {},
   "source": [
    "__We can see in the below mentioned graph that the neighborhood having the highest no of venues are \n",
    "Bellagio,San Giovanni di Bellagio with 50 venues, Como-Lora(written in short) with 41 venues,Mennaggio with 25 venues,\n",
    "Mariano Comense,Perticato with 22 venues and Cernobbio with 22 venues followed by others.__"
   ]
  },
  {
   "cell_type": "code",
   "execution_count": null,
   "metadata": {},
   "outputs": [],
   "source": [
    "#Plotting a bar graph of no of venues for each neighborhood\n",
    "cg3.plot(kind='bar', x= 'Neighborhood',y='Venue',figsize=(6,4),color='chocolate',legend=None)\n",
    "\n",
    "plt.xlabel('Neighborhoods') # add to x-label to the plot\n",
    "plt.ylabel('No of venues') # add y-label to the plot\n",
    "plt.title('No of venues in each neighborhood of Como city') # add title to the plot\n",
    "\n",
    "plt.show()"
   ]
  },
  {
   "cell_type": "code",
   "execution_count": null,
   "metadata": {},
   "outputs": [],
   "source": [
    "#Checking the number of unique categories\n",
    "print('There are {} uniques categories of venues.'.format(len(como_venues['Venue Category'].unique())))"
   ]
  },
  {
   "cell_type": "code",
   "execution_count": null,
   "metadata": {},
   "outputs": [],
   "source": [
    "# one hot encoding\n",
    "como_onehot = pd.get_dummies(como_venues[['Venue Category']], prefix=\"\", prefix_sep=\"\")\n",
    "\n",
    "# add neighborhood column back to dataframe\n",
    "como_onehot['Neighborhood'] = como_venues['Neighborhood'] \n",
    "\n",
    "# move neighborhood column to the first column\n",
    "fixed_columns = [como_onehot.columns[-1]] + list(como_onehot.columns[:-1])\n",
    "como_onehot = como_onehot[fixed_columns]\n",
    "\n",
    "como_onehot.head()"
   ]
  },
  {
   "cell_type": "code",
   "execution_count": null,
   "metadata": {},
   "outputs": [],
   "source": [
    "como_onehot.shape"
   ]
  },
  {
   "cell_type": "code",
   "execution_count": null,
   "metadata": {},
   "outputs": [],
   "source": [
    "#let's group rows by neighborhood and by taking the mean of the frequency of occurrence of each category\n",
    "como_grouped = como_onehot.groupby('Neighborhood').mean().reset_index()\n",
    "como_grouped.head(5)"
   ]
  },
  {
   "cell_type": "code",
   "execution_count": null,
   "metadata": {},
   "outputs": [],
   "source": [
    "como_grouped.shape"
   ]
  },
  {
   "cell_type": "markdown",
   "metadata": {},
   "source": [
    "__Function to sort the venues in descending order.__"
   ]
  },
  {
   "cell_type": "code",
   "execution_count": null,
   "metadata": {},
   "outputs": [],
   "source": [
    "def return_most_common_venues(row, num_top_venues):\n",
    "    row_categories = row.iloc[1:]\n",
    "    row_categories_sorted = row_categories.sort_values(ascending=False)\n",
    "    \n",
    "    return row_categories_sorted.index.values[0:num_top_venues]"
   ]
  },
  {
   "cell_type": "code",
   "execution_count": null,
   "metadata": {},
   "outputs": [],
   "source": [
    "#create the new dataframe and display the top 10 venues for each neighborhood.\n",
    "num_top_venues = 10\n",
    "\n",
    "indicators = ['st', 'nd', 'rd']\n",
    "\n",
    "# create columns according to number of top venues\n",
    "columns = ['Neighborhood']\n",
    "for ind in np.arange(num_top_venues):\n",
    "    try:\n",
    "        columns.append('{}{} Most Common Venue'.format(ind+1, indicators[ind]))\n",
    "    except:\n",
    "        columns.append('{}th Most Common Venue'.format(ind+1))\n",
    "\n",
    "# create a new dataframe\n",
    "neighborhoods_venues_sorted = pd.DataFrame(columns=columns)\n",
    "neighborhoods_venues_sorted['Neighborhood'] = como_grouped['Neighborhood']\n",
    "\n",
    "for ind in np.arange(como_grouped.shape[0]):\n",
    "    neighborhoods_venues_sorted.iloc[ind, 1:] = return_most_common_venues(como_grouped.iloc[ind, :], num_top_venues)\n",
    "\n",
    "neighborhoods_venues_sorted.head()"
   ]
  },
  {
   "cell_type": "markdown",
   "metadata": {},
   "source": [
    "__We will be using *k*-means to cluster the neighborhood into 5 clusters.__"
   ]
  },
  {
   "cell_type": "code",
   "execution_count": null,
   "metadata": {},
   "outputs": [],
   "source": [
    "# set number of clusters\n",
    "kclusters = 5\n",
    "\n",
    "como_grouped_clustering = como_grouped.drop('Neighborhood', 1)\n",
    "\n",
    "# run k-means clustering\n",
    "kmeans = KMeans(n_clusters=kclusters, random_state=0).fit(como_grouped_clustering)\n",
    "\n",
    "# check cluster labels generated for each row in the dataframe\n",
    "kmeans.labels_[0:10] "
   ]
  },
  {
   "cell_type": "code",
   "execution_count": null,
   "metadata": {},
   "outputs": [],
   "source": [
    "# add clustering labels\n",
    "neighborhoods_venues_sorted.insert(0, 'Cluster Labels', kmeans.labels_)\n",
    "\n",
    "como_merged = cneighborhoods\n",
    "\n",
    "# merge toronto_grouped with toronto_data to add latitude/longitude for each neighborhood\n",
    "como_merged = como_merged.join(neighborhoods_venues_sorted.set_index('Neighborhood'), on='Neighborhood')\n",
    "\n",
    "como_merged.head() # check the last columns!"
   ]
  },
  {
   "cell_type": "code",
   "execution_count": null,
   "metadata": {},
   "outputs": [],
   "source": [
    "# delete rows with none values\n",
    "como_merged1 = como_merged.dropna(axis=0, how='any', thresh=None, subset=None, inplace=False)\n",
    "como_merged1.head(10)"
   ]
  },
  {
   "cell_type": "code",
   "execution_count": null,
   "metadata": {},
   "outputs": [],
   "source": [
    "#Converting the data type of CLuster Labels to integer\n",
    "como_merged1[\"Cluster Labels\"]= como_merged1[\"Cluster Labels\"].astype(int) "
   ]
  },
  {
   "cell_type": "code",
   "execution_count": null,
   "metadata": {},
   "outputs": [],
   "source": [
    "como_merged1.reset_index(inplace = True, drop = True) \n",
    "como_merged1.head(10)"
   ]
  },
  {
   "cell_type": "code",
   "execution_count": null,
   "metadata": {},
   "outputs": [],
   "source": [
    "como_merged1.head(5)"
   ]
  },
  {
   "cell_type": "code",
   "execution_count": null,
   "metadata": {},
   "outputs": [],
   "source": [
    "#Checking the size of the dataframe\n",
    "como_merged1.shape"
   ]
  },
  {
   "cell_type": "markdown",
   "metadata": {},
   "source": [
    "__Visualizing the resulting clusters on the map__"
   ]
  },
  {
   "cell_type": "code",
   "execution_count": null,
   "metadata": {
    "collapsed": false,
    "jupyter": {
     "outputs_hidden": false
    }
   },
   "outputs": [],
   "source": [
    "# create map\n",
    "map_clusters = folium.Map(location=[latitude1, longitude1], zoom_start=10)\n",
    "\n",
    "# set color scheme for the clusters\n",
    "x = np.arange(kclusters)\n",
    "ys = [i + x + (i*x)**2 for i in range(kclusters)]\n",
    "colors_array = cm.rainbow(np.linspace(0, 1, len(ys)))\n",
    "rainbow = [colors.rgb2hex(i) for i in colors_array]\n",
    "\n",
    "# add markers to the map\n",
    "markers_colors = []\n",
    "for lat, lon, poi, cluster in zip(como_merged1['Latitude'], como_merged1['Longitude'], como_merged1['Neighborhood'], como_merged1['Cluster Labels']):\n",
    "    label = folium.Popup(str(poi) + ' Cluster ' + str(cluster), parse_html=True)\n",
    "    folium.CircleMarker(\n",
    "        [lat, lon],\n",
    "        radius=5,\n",
    "        popup=label,\n",
    "        color=rainbow[cluster-1],\n",
    "        fill=True,\n",
    "        fill_color=rainbow[cluster-1],\n",
    "        fill_opacity=0.7).add_to(map_clusters)\n",
    "       \n",
    "map_clusters"
   ]
  },
  {
   "cell_type": "markdown",
   "metadata": {},
   "source": [
    "## Results and Discussion <a name=\"results\"></a>"
   ]
  },
  {
   "cell_type": "code",
   "execution_count": null,
   "metadata": {},
   "outputs": [],
   "source": [
    "The above analysis show that for the corporate event(5 day program),the company can choose from the any of the 9 hotels and \n",
    "1 event space in the Milan Area nearby the Company location in the city and also several nearby venues available for a \n",
    "short trip in the evenigs within a radius of 500 meters from the Milan Area to various places in the city.There are 43 \n",
    "unique categories which includes nearby venues like Italian Restaurants,Ice Cream Shops, Plaza, Cafe and Pizza Place with\n",
    "the respective highest counts. Venues also include some of the Art Galleries, Art Museums,Monuments, Cosmetics Store, \n",
    "Boutiques(which are also popular in the City) and many others.\n",
    "\n",
    "The company for any specific type of category of location can also choose from any one of the  23 hotels,31 Restaurants,\n",
    "34 fashion stores and 18 shopping malls/places with 41 unique categories spread over larger(different for each venue)\n",
    "radius in the city of Milano of venues to have some more options.\n",
    "\n",
    "There are 45 neighborhoods in Como with 370 venues and 97 unique categories of venues. Top 5 neighborhoods with\n",
    "highest no of venues are Bellagio,San Giovanni di Bellagio with 50 venues, Como-Lora(big set written in short) with 41 \n",
    "venues,Mennaggio with 25 venues,Mariano Comense,Perticato with 22 venues and Cernobbio with 22 venues followed by other \n",
    "venues.Then,top 10 common venues for each neighborhood in Como are also identified.\n",
    "\n",
    "Likewise, the company can also choose the neighborhoods in Como as per the top 10 common interested venues/maximum no of \n",
    "venues in a neighborhood and plan a one day tour to the city of Como for the executives.\n",
    "\n",
    "In order to avoid confusion, I would like to clearly state that there are different Milan Neighborhoods/Areas\n",
    "in the Milan City in the dataset I have obtained. They can be differentiated from each other by checking the postal \n",
    "code and also complete address can be easily identified as mentioned above for any interested venue.I would also like to\n",
    "mention that data returned by Foursquare may vary slightly depending on the time of the day it is run.\n",
    "\n",
    "I have just used one of the ways to suggest various venues, location and their categories for the city of Milan and Como. \n",
    "It is possible that a location may or may not be suitable for any reasons which may be subject to further analysis.\n",
    "As Milan and Como are big cities,there is a complexity and very different approaches can be tried in clustering and \n",
    "classification studies. Moreover, it is obvious that not every classification method can yield the same high quality \n",
    "results for the city.\n",
    "\n",
    "I used the Kmeans algorithm as part of this clustering study for the dataset I have obtained. One can also choose to do\n",
    "a more detailed study and the details of the neighborhood or street can also be drilled.\n",
    "\n",
    "I have ended the study by visualising the data of the locations in the Milan Area on one map and data spread over larger\n",
    "radius of the city in another map. Data of the Como city is also visulaised in a separate map with clusters \n",
    "(using **k-means clustering**) of neighborhoods with top 10 common venues in the city to identify general neighborhoods\n",
    "which should be of interest to the company for choosing venue locations."
   ]
  },
  {
   "cell_type": "markdown",
   "metadata": {},
   "source": [
    "## Conclusion <a name=\"conclusion\"></a>"
   ]
  },
  {
   "cell_type": "code",
   "execution_count": null,
   "metadata": {},
   "outputs": [],
   "source": [
    "Purpose of this project was to identify hotels and event space(9 hotels and 1 event space are identified) in the areas \n",
    "close to the company location in the Milan Area of the Milan city for the corporate event and also nearby venues(93 venues  \n",
    "are identified with 43 unique categories of venues) that can be visited in the evenings after work within a radius of 500 \n",
    "meters from the Area.I have also identified 31 restaurants, 18 shopping malls and 34 fashion stores not specific to any \n",
    "neighborhood and spread over a larger radius in the city to give the company few more options of the same.\n",
    "\n",
    "I have also identified 45 neighborhoods in Como with 370 venues and 97 unique categories of venues. Top 5 neighborhoods \n",
    "with highest no of venues are also identified.Then,top 10 common venues for each neighborhood in Como are also identified.\n",
    "\n",
    "The company can accordingly choose neighborhoods as per the interested venues/maximum no of venues in a neighborhood for one \n",
    "day tour of executives to the Como city.\n",
    "\n",
    "Final decision for choosing optimal venue locations will be made by the company based on specific characteristics of \n",
    "neighborhoods and locations in city of Milan and Como, taking into consideration additional factors like attractiveness of \n",
    "each location in terms of event for executives,tourist place and opening & closing times for visit.\n",
    "\n",
    "Several other companies can use similar data analysis types for any type of event/tourist package that they are interested\n",
    "in organising."
   ]
  }
 ],
 "metadata": {
  "kernelspec": {
   "display_name": "Python",
   "language": "python",
   "name": "conda-env-python-py"
  },
  "language_info": {
   "codemirror_mode": {
    "name": "ipython",
    "version": 3
   },
   "file_extension": ".py",
   "mimetype": "text/x-python",
   "name": "python",
   "nbconvert_exporter": "python",
   "pygments_lexer": "ipython3",
   "version": "3.6.7"
  }
 },
 "nbformat": 4,
 "nbformat_minor": 4
}
